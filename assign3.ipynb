{
 "cells": [
  {
   "cell_type": "markdown",
   "id": "46d267d4-a8ac-4b68-b809-d02736aa7c84",
   "metadata": {},
   "source": [
    "\"\"\"Q.1 what are the characteristics of tuples?is tuples mutable?\"\"\"\n",
    "\"\"\"Ans:- 1. They are indexed.\n",
    "      2. Tuples are ordered.\n",
    "      3. These are immutable.\n",
    "      4. They can contain duplicate items.\"\"\""
   ]
  },
  {
   "cell_type": "markdown",
   "id": "ff08e83c-e172-43aa-b9ba-ca79cc87b121",
   "metadata": {},
   "source": [
    "\"\"\"Q2. What are the two tuple methods in python? Give an example of each method. Give a reason why tuples have only two in-built methods as compared to Lists.\"\"\"\n",
    "\"\"\"Ans:- tuple has only two functions    "
   ]
  },
  {
   "cell_type": "code",
   "execution_count": 11,
   "id": "5474765e-a53d-4a68-8f19-438e626af720",
   "metadata": {},
   "outputs": [
    {
     "data": {
      "text/plain": [
       "4"
      ]
     },
     "execution_count": 11,
     "metadata": {},
     "output_type": "execute_result"
    }
   ],
   "source": [
    "t1 = (1,2,2,2,23)\n",
    "t1.index(23)\n",
    "# \"\"\"it gives the index number of given number in index function\"\"\""
   ]
  },
  {
   "cell_type": "code",
   "execution_count": 12,
   "id": "6edff058-d2f9-4fe9-9ac2-01fa5ce8407c",
   "metadata": {},
   "outputs": [
    {
     "data": {
      "text/plain": [
       "3"
      ]
     },
     "execution_count": 12,
     "metadata": {},
     "output_type": "execute_result"
    }
   ],
   "source": [
    "t1.count(2)\n",
    "# it gives the number of occurances of a number in the given tuple"
   ]
  },
  {
   "cell_type": "markdown",
   "id": "632de67e-a551-4405-9676-81b1ba0b3a86",
   "metadata": {},
   "source": [
    "Tuples are immutable, whereas lists can be modified. This in itself explains why tuples don't have any way of modifying them"
   ]
  },
  {
   "cell_type": "markdown",
   "id": "c4df8057-7af1-498b-bc48-12c0cb5edcf7",
   "metadata": {},
   "source": [
    "Q.3:-Which collection datatypes in python do not allow duplicate items? Write a code using a set to remove\n",
    "duplicates from the given list.\n",
    "List = [1, 1, 1, 2, 1, 3, 1, 4, 2, 1, 2, 2, 2, 3, 2, 4, 3, 1, 3, 2, 3, 3, 3, 4, 4, 1, 4, 2, 4, 3, 4, 4]"
   ]
  },
  {
   "cell_type": "markdown",
   "id": "bf9d4490-69e6-4130-a8b6-304a6f35748d",
   "metadata": {},
   "source": [
    "Ans:- set does not allows duplicate values in it . "
   ]
  },
  {
   "cell_type": "code",
   "execution_count": 13,
   "id": "1e64ba1e-a326-4214-808a-ad0a34c40741",
   "metadata": {},
   "outputs": [],
   "source": [
    "set = {1, 1, 1, 2, 1, 3, 1, 4, 2, 1, 2, 2, 2, 3, 2, 4, 3, 1, 3, 2, 3, 3, 3, 4, 4, 1, 4, 2, 4, 3, 4, 4}"
   ]
  },
  {
   "cell_type": "code",
   "execution_count": 15,
   "id": "bf2c7b2d-010c-49f0-905f-dd94a8d411db",
   "metadata": {},
   "outputs": [
    {
     "data": {
      "text/plain": [
       "{1, 2, 3, 4}"
      ]
     },
     "execution_count": 15,
     "metadata": {},
     "output_type": "execute_result"
    }
   ],
   "source": [
    "set"
   ]
  },
  {
   "cell_type": "markdown",
   "id": "e69f7e86-b484-43ba-b831-71b3c1171313",
   "metadata": {},
   "source": [
    "Q4. Explain the difference between the union() and update() methods for a set. Give an example of\n",
    "each method."
   ]
  },
  {
   "cell_type": "markdown",
   "id": "e9afc05e-9b1c-478a-b8b4-05f083ff13d6",
   "metadata": {},
   "source": [
    "Ans:-union() returns the union or basically adds different values of two sets."
   ]
  },
  {
   "cell_type": "code",
   "execution_count": 16,
   "id": "81163c44-dbeb-4a2e-bfb2-882f686571a4",
   "metadata": {},
   "outputs": [
    {
     "data": {
      "text/plain": [
       "{1, 2, 3, 4, 5, 6}"
      ]
     },
     "execution_count": 16,
     "metadata": {},
     "output_type": "execute_result"
    }
   ],
   "source": [
    "set = {1,2,3}\n",
    "set1 = {4,5,6}\n",
    "set.union(set1)"
   ]
  },
  {
   "cell_type": "code",
   "execution_count": 25,
   "id": "64a57d7a-2d6d-4dc8-83be-f15c3298de59",
   "metadata": {
    "tags": []
   },
   "outputs": [
    {
     "data": {
      "text/plain": [
       "{1, 2, 3, 4, 5, 6}"
      ]
     },
     "execution_count": 25,
     "metadata": {},
     "output_type": "execute_result"
    }
   ],
   "source": [
    "set.update(set1)\n",
    "set"
   ]
  },
  {
   "cell_type": "markdown",
   "id": "200c6030-6c42-4ffe-a294-713dd718bfcc",
   "metadata": {},
   "source": [
    "Q5. What is a dictionary? Give an example. Also, state whether a dictionary is ordered or unordered."
   ]
  },
  {
   "cell_type": "markdown",
   "id": "fafa2734-617f-4586-a42e-cb25962549d3",
   "metadata": {},
   "source": [
    "Ans:- Dictionery is a data structure in python which stores the value in key value pairs.A dictionary is a collection which is ordered, changeable and do not allow duplicates keys ."
   ]
  },
  {
   "cell_type": "code",
   "execution_count": 27,
   "id": "d0893920-91f0-4c89-b524-ed6831868a1a",
   "metadata": {},
   "outputs": [
    {
     "data": {
      "text/plain": [
       "'Tushar'"
      ]
     },
     "execution_count": 27,
     "metadata": {},
     "output_type": "execute_result"
    }
   ],
   "source": [
    "dict = {\"name\":\"Tushar\",\"course_name\":\"Data science Masters\"}\n",
    "dict[\"name\"]\n"
   ]
  },
  {
   "cell_type": "markdown",
   "id": "55bafb80-1d4a-469b-88ca-dc30a6c0a66d",
   "metadata": {},
   "source": [
    "Q6. Can we create a nested dictionary? If so, please give an example by creating a simple one-level nested dictionary."
   ]
  },
  {
   "cell_type": "code",
   "execution_count": 33,
   "id": "fae10b27-2984-48d5-a5d1-d009f1538f74",
   "metadata": {},
   "outputs": [],
   "source": [
    "dict = {\"dict1\":{\"name\":\"Tushar\"},\"dict2\":{\"course_name\":\"Data science masters\"}}"
   ]
  },
  {
   "cell_type": "code",
   "execution_count": 38,
   "id": "d1deb5b1-ff67-4154-976d-2011a1cf1f2c",
   "metadata": {},
   "outputs": [
    {
     "data": {
      "text/plain": [
       "{'name': 'Tushar', 'course_name': 'Data science Masters'}"
      ]
     },
     "execution_count": 38,
     "metadata": {},
     "output_type": "execute_result"
    }
   ],
   "source": [
    "dict"
   ]
  },
  {
   "cell_type": "markdown",
   "id": "934e1293-7527-4fa9-a657-c28991e479d2",
   "metadata": {},
   "source": [
    "Q7. Using setdefault() method, create key named topics in the given dictionary and also add the value of\n",
    "the key as this list ['Python', 'Machine Learning’, 'Deep Learning']\n",
    "dict1 = {'language' : 'Python', 'course': 'Data Science Masters'}"
   ]
  },
  {
   "cell_type": "code",
   "execution_count": 55,
   "id": "94ea4a7c-8700-4863-935f-e2b5d133a0f0",
   "metadata": {},
   "outputs": [
    {
     "data": {
      "text/plain": [
       "['Python', 'Data Science Masters']"
      ]
     },
     "execution_count": 55,
     "metadata": {},
     "output_type": "execute_result"
    }
   ],
   "source": [
    "dict1 = {'language' : 'Python', 'course': 'Data Science Masters'}\n",
    "list = []\n",
    "x = dict1.setdefault(\"language\")\n",
    "list.append(x)\n",
    "y = dict1.setdefault(\"course\")\n",
    "list.append(y)\n",
    "list"
   ]
  },
  {
   "cell_type": "markdown",
   "id": "3fa57ca5-9ed5-4a38-b1e7-232e8827c937",
   "metadata": {},
   "source": [
    "Q8. What are the three view objects in dictionaries? Use the three in-built methods in python to display\n",
    "these three view objects for the given dictionary.\n",
    "dict1 = {'Sport': 'Cricket' , 'Teams': ['India', 'Australia', 'England', 'South Africa', 'Sri Lanka', 'New Zealand']}"
   ]
  },
  {
   "cell_type": "markdown",
   "id": "8ba3eea0-550e-470a-a5bd-bfd31669d597",
   "metadata": {},
   "source": [
    "Ans:- The three view in dictionery in python is key,value and items."
   ]
  },
  {
   "cell_type": "code",
   "execution_count": null,
   "id": "26a86da3-6711-4e2f-9cb0-c804772f2c0c",
   "metadata": {},
   "outputs": [],
   "source": [
    "dict1 = {'Sport': 'Cricket' , 'Teams': ['India', 'Australia', 'England', 'South Africa', 'Sri Lanka', 'New Zealand']}\n",
    "dict"
   ]
  },
  {
   "cell_type": "code",
   "execution_count": null,
   "id": "bd89f1d0-502d-4a1f-afb1-e5faeb06ae17",
   "metadata": {},
   "outputs": [],
   "source": []
  },
  {
   "cell_type": "code",
   "execution_count": null,
   "id": "b6ddd62f-88f9-4bda-b2ef-0486f069769c",
   "metadata": {},
   "outputs": [],
   "source": []
  },
  {
   "cell_type": "code",
   "execution_count": null,
   "id": "bbc0b3db-fe9e-484f-8907-bbcd33ce83ff",
   "metadata": {},
   "outputs": [],
   "source": []
  },
  {
   "cell_type": "code",
   "execution_count": null,
   "id": "c55f8946-09b5-49b3-8091-2d14f3677fc2",
   "metadata": {},
   "outputs": [],
   "source": []
  },
  {
   "cell_type": "code",
   "execution_count": null,
   "id": "bb12da68-ef6d-424d-b18d-638e02b72bbb",
   "metadata": {},
   "outputs": [],
   "source": []
  },
  {
   "cell_type": "code",
   "execution_count": null,
   "id": "9491b965-fc2d-4c22-bea3-e7beeb7786d2",
   "metadata": {},
   "outputs": [],
   "source": []
  },
  {
   "cell_type": "code",
   "execution_count": null,
   "id": "fb5a2437-e26c-4538-9236-ebc19922b42c",
   "metadata": {},
   "outputs": [],
   "source": []
  },
  {
   "cell_type": "code",
   "execution_count": null,
   "id": "ece02445-b6c9-4619-8c2a-ec653b7e8870",
   "metadata": {},
   "outputs": [],
   "source": []
  },
  {
   "cell_type": "code",
   "execution_count": null,
   "id": "72dcc38b-76f9-41f0-b04e-d75c7f45a73b",
   "metadata": {},
   "outputs": [],
   "source": []
  },
  {
   "cell_type": "code",
   "execution_count": null,
   "id": "a474c790-b5a9-4493-959b-b61f3b2dd0dc",
   "metadata": {},
   "outputs": [],
   "source": []
  },
  {
   "cell_type": "code",
   "execution_count": null,
   "id": "9c54322b-290d-4a51-990f-c08ebe2a0cfb",
   "metadata": {},
   "outputs": [],
   "source": []
  },
  {
   "cell_type": "code",
   "execution_count": null,
   "id": "8a5c8e99-8016-485a-bb5a-bb5033f20c82",
   "metadata": {},
   "outputs": [],
   "source": []
  },
  {
   "cell_type": "code",
   "execution_count": null,
   "id": "46801949-4f18-4afe-a694-1e50eff82a8b",
   "metadata": {},
   "outputs": [],
   "source": []
  },
  {
   "cell_type": "code",
   "execution_count": null,
   "id": "a96c9b43-a0e2-4209-9b13-f889b46a571f",
   "metadata": {},
   "outputs": [],
   "source": []
  },
  {
   "cell_type": "code",
   "execution_count": null,
   "id": "24e4211d-e3c7-4c6c-8a41-87eacb6d4547",
   "metadata": {},
   "outputs": [],
   "source": []
  },
  {
   "cell_type": "code",
   "execution_count": null,
   "id": "b9e3f7e9-b8ba-4787-a49e-22d47acab324",
   "metadata": {},
   "outputs": [],
   "source": []
  },
  {
   "cell_type": "code",
   "execution_count": null,
   "id": "e18997dc-31b0-48a7-bb54-2084eaa9ed21",
   "metadata": {},
   "outputs": [],
   "source": []
  },
  {
   "cell_type": "code",
   "execution_count": null,
   "id": "3e6d2524-c4b0-463b-a5e3-8e1ad0e156d8",
   "metadata": {},
   "outputs": [],
   "source": []
  },
  {
   "cell_type": "code",
   "execution_count": null,
   "id": "4eb3576f-5783-4d97-87b7-3e5f64c563fe",
   "metadata": {},
   "outputs": [],
   "source": []
  },
  {
   "cell_type": "code",
   "execution_count": null,
   "id": "6e9e08a8-c74d-438a-80cd-4b0d8c65e7d7",
   "metadata": {},
   "outputs": [],
   "source": []
  },
  {
   "cell_type": "code",
   "execution_count": null,
   "id": "f704ed6e-6a5d-4791-8dc9-4dec700cce8f",
   "metadata": {},
   "outputs": [],
   "source": []
  },
  {
   "cell_type": "code",
   "execution_count": null,
   "id": "72a76157-0d35-4f49-a759-fac01b8a5bc6",
   "metadata": {},
   "outputs": [],
   "source": []
  },
  {
   "cell_type": "code",
   "execution_count": null,
   "id": "b2fa63d0-b1d3-4d8c-97cb-ef77d60d2974",
   "metadata": {},
   "outputs": [],
   "source": []
  },
  {
   "cell_type": "code",
   "execution_count": null,
   "id": "de094b07-196f-4718-9faa-6002e6ea775c",
   "metadata": {},
   "outputs": [],
   "source": []
  },
  {
   "cell_type": "code",
   "execution_count": null,
   "id": "be41a24f-fb19-40ee-9f5e-57b6790ca0af",
   "metadata": {},
   "outputs": [],
   "source": []
  },
  {
   "cell_type": "code",
   "execution_count": null,
   "id": "c9b233da-afb9-4627-aafe-e77cb93da488",
   "metadata": {},
   "outputs": [],
   "source": []
  },
  {
   "cell_type": "code",
   "execution_count": null,
   "id": "4f0003e6-e7ec-4886-bb40-b691f9c81038",
   "metadata": {},
   "outputs": [],
   "source": []
  },
  {
   "cell_type": "code",
   "execution_count": null,
   "id": "3b13e293-72c4-4ec6-9fbf-1285680a4d60",
   "metadata": {},
   "outputs": [],
   "source": []
  },
  {
   "cell_type": "code",
   "execution_count": null,
   "id": "e405eab2-cb2a-4c74-a928-2096a5a9fe5a",
   "metadata": {},
   "outputs": [],
   "source": []
  },
  {
   "cell_type": "code",
   "execution_count": null,
   "id": "0b556b2d-c652-4075-aba2-321e0f3e488d",
   "metadata": {},
   "outputs": [],
   "source": []
  },
  {
   "cell_type": "code",
   "execution_count": null,
   "id": "97f2c0ad-7810-47c7-91c9-f55f03d7ad91",
   "metadata": {},
   "outputs": [],
   "source": []
  },
  {
   "cell_type": "code",
   "execution_count": null,
   "id": "5f09ac54-1949-48c8-8b19-15a9d1c93fc2",
   "metadata": {},
   "outputs": [],
   "source": []
  },
  {
   "cell_type": "code",
   "execution_count": null,
   "id": "e7344af9-fd50-4e6a-962f-89c3cf411edb",
   "metadata": {},
   "outputs": [],
   "source": []
  },
  {
   "cell_type": "code",
   "execution_count": null,
   "id": "fd56d885-ef2a-432a-be0c-8286e64c5f7f",
   "metadata": {},
   "outputs": [],
   "source": []
  },
  {
   "cell_type": "code",
   "execution_count": null,
   "id": "0a3385cd-49af-4aab-a12c-d6e790bbd9b2",
   "metadata": {},
   "outputs": [],
   "source": []
  },
  {
   "cell_type": "code",
   "execution_count": null,
   "id": "4b795e05-405b-48be-b19a-405d5a356949",
   "metadata": {},
   "outputs": [],
   "source": []
  },
  {
   "cell_type": "code",
   "execution_count": null,
   "id": "3b9b0b7b-be9b-43cc-b5d5-0b99aaef743f",
   "metadata": {},
   "outputs": [],
   "source": []
  },
  {
   "cell_type": "code",
   "execution_count": null,
   "id": "039ce710-0dca-4a70-a88d-c7d0f592e991",
   "metadata": {},
   "outputs": [],
   "source": []
  },
  {
   "cell_type": "code",
   "execution_count": null,
   "id": "b2a88e6a-c074-44a4-b829-931ae4fdecc2",
   "metadata": {},
   "outputs": [],
   "source": []
  },
  {
   "cell_type": "code",
   "execution_count": null,
   "id": "574339ed-dfee-491e-8455-19f3c926d95e",
   "metadata": {},
   "outputs": [],
   "source": []
  },
  {
   "cell_type": "code",
   "execution_count": null,
   "id": "7d4823a7-b13d-4103-9790-d50207384253",
   "metadata": {},
   "outputs": [],
   "source": []
  }
 ],
 "metadata": {
  "kernelspec": {
   "display_name": "Python 3 (ipykernel)",
   "language": "python",
   "name": "python3"
  },
  "language_info": {
   "codemirror_mode": {
    "name": "ipython",
    "version": 3
   },
   "file_extension": ".py",
   "mimetype": "text/x-python",
   "name": "python",
   "nbconvert_exporter": "python",
   "pygments_lexer": "ipython3",
   "version": "3.10.8"
  }
 },
 "nbformat": 4,
 "nbformat_minor": 5
}
