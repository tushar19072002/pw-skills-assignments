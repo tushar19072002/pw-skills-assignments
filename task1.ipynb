{
 "cells": [
  {
   "cell_type": "markdown",
   "id": "e907d7af-2d19-47b7-bed7-16b94b2fe626",
   "metadata": {},
   "source": [
    "Q1. Create a function which will take a list as an argument and return the product of all the numbers\n",
    "after creating a flat list.\n",
    "Use the below-given list as an argument for your function.\n",
    "list1 = [1,2,3,4, [44,55,66, True], False, (34,56,78,89,34), {1,2,3,3,2,1}, {1:34, \"key2\": [55, 67, 78, 89], 4: (45,22, 61, 34)}, [56, 'data science'], 'Machine Learning']"
   ]
  },
  {
   "cell_type": "code",
   "execution_count": 79,
   "id": "b77f0828-3b86-4336-951e-cbe63e1c6a03",
   "metadata": {},
   "outputs": [
    {
     "name": "stdout",
     "output_type": "stream",
     "text": [
      "4134711838987085478833841242112000\n"
     ]
    }
   ],
   "source": [
    "from functools import reduce \n",
    "list1 = [1,2,3,4, [44,55,66, True], False, (34,56,78,89,34), {1,2,3,3,2,1}, {1:34, \"key2\": [55, 67, 78, 89], 4: (45,22, 61, 34)}, [56, 'data science'], 'Machine Learning']\n",
    "ludo = []\n",
    "for i in list1:\n",
    "    if type(i) == int:\n",
    "        ludo.append(i)\n",
    "    if type(i) == list:\n",
    "        for ii in i:\n",
    "            if type(ii) == int:\n",
    "                ludo.append(ii)\n",
    "    if type(i) == tuple:\n",
    "        for x in i:\n",
    "            if type(x) == int:\n",
    "                ludo.append(x)\n",
    "    if type(i) == set:\n",
    "        for xx in i:\n",
    "            if type(xx) == int:\n",
    "                ludo.append(xx)\n",
    "    if type(i) == dict:\n",
    "        for c,d in i.items():\n",
    "            if type(c) == int:\n",
    "                ludo.append(c)\n",
    "            if type(d) == int:\n",
    "                ludo.append(d)\n",
    "            if type(d) == list:\n",
    "                for f in d:\n",
    "                    if type(f)== int:\n",
    "                        ludo.append(f)\n",
    "            if type(d) == tuple:\n",
    "                for ff in d:\n",
    "                    if type(ff)== int:\n",
    "                        ludo.append(ff)\n",
    "                    \n",
    "    \n",
    "mul = 1\n",
    "for i in ludo:\n",
    "    mul = i * mul\n",
    "print(mul)\n",
    "\n",
    "\n",
    "    "
   ]
  },
  {
   "cell_type": "markdown",
   "id": "81c1cf9b-debd-4728-b721-bbfb0c5f3b88",
   "metadata": {},
   "source": [
    "Q2. Write a python program for encrypting a message sent to you by your friend. The logic of encryption\n",
    "should be such that, for a the output should be z. For b, the output should be y. For c, the output should\n",
    "be x respectively. Also, the whitespace should be replaced with a dollar sign. Keep the punctuation\n",
    "marks unchanged.\n",
    "Input Sentence: I want to become a Data Scientist."
   ]
  },
  {
   "cell_type": "code",
   "execution_count": 46,
   "id": "ce21c8b6-531f-4ed1-b895-b544df1b3b5f",
   "metadata": {},
   "outputs": [
    {
     "name": "stdout",
     "output_type": "stream",
     "text": [
      "r$dzmg$gl$yvxlnv$z$wzgz$hxrvmgrhg\n"
     ]
    }
   ],
   "source": [
    "alphabet = [\" \",\"a\",\"b\",\"c\",\"d\",\"e\",\"f\",\"g\",\"h\",\"i\",\"j\",\"k\",\"l\",\"m\",\"n\",\"o\",\"p\",\"q\",\"r\",\"s\",\"t\",\"u\",\"v\",\"w\",\"x\",\"y\",\"z\"]\n",
    "plain = \"I want to become a Data Scientist\"\n",
    "plain_text = plain.lower()\n",
    "punc_marks = [\".\",\",\",\"?\",\";\",\"!\",\":\",\"'\",\"-\",\"_\",\"/\",\"@\",\"*\"]\n",
    "cipher_text = \"\"\n",
    "for letter in plain_text:\n",
    "    if letter == \" \":\n",
    "        cipher_text +=\"$\"\n",
    "    position = alphabet.index(letter)\n",
    "    new_position = -position \n",
    "    new_letter = alphabet[new_position]\n",
    "    cipher_text += new_letter\n",
    "    \n",
    "        \n",
    "    \n",
    "def remove(string):\n",
    "    return string.replace(\" \", \"\")\n",
    "print(remove(cipher_text))  "
   ]
  },
  {
   "cell_type": "code",
   "execution_count": null,
   "id": "d4d260de-aa73-42f6-b9e2-b1d86cdfca5c",
   "metadata": {},
   "outputs": [],
   "source": []
  }
 ],
 "metadata": {
  "kernelspec": {
   "display_name": "Python 3 (ipykernel)",
   "language": "python",
   "name": "python3"
  },
  "language_info": {
   "codemirror_mode": {
    "name": "ipython",
    "version": 3
   },
   "file_extension": ".py",
   "mimetype": "text/x-python",
   "name": "python",
   "nbconvert_exporter": "python",
   "pygments_lexer": "ipython3",
   "version": "3.10.8"
  }
 },
 "nbformat": 4,
 "nbformat_minor": 5
}
