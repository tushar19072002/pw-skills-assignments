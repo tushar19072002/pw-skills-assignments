{
 "cells": [
  {
   "cell_type": "markdown",
   "id": "d22a616a-4def-454c-a496-0a8d1d39543b",
   "metadata": {},
   "source": [
    "Q.1:- what is multithreading in python? why is it used? Name the module used to handle threads in python?"
   ]
  },
  {
   "cell_type": "markdown",
   "id": "be26a9ef-45ea-4014-88e4-7b99e3fcab39",
   "metadata": {},
   "source": [
    "Ans:-Multithreading refers to concurrently executing multiple threads by rapidly switching the control of the CPU between threads (called context switching). The Python Global Interpreter Lock limits one thread to run at a time even if the machine contains multiple processors.\n",
    "Python threading allows you to have different parts of your program run concurrently and can simplify your design. If you've got some experience in Python and want to speed up your program using threads, then this tutorial is for you!\n",
    "Threading module is used to handle threads in python."
   ]
  },
  {
   "cell_type": "markdown",
   "id": "45947da8-2b08-4bff-902d-fb1877d0b608",
   "metadata": {},
   "source": [
    "Q-2:- why threading module is used? write the use of the following functions\n",
    "(1) activeCount\n",
    "(2) currentThread\n",
    "(3) enumerate"
   ]
  },
  {
   "cell_type": "markdown",
   "id": "10c47655-c310-4eeb-8b26-f41679e979bb",
   "metadata": {},
   "source": [
    "Ans:- Threading module is used to handle threads in python.\n",
    "(1) activeCount:-\n",
    "active_count() is an inbuilt method of the threading module, it is used to return the number of Thread objects that are active at any instant.\n",
    "(2) currentThread:-\n",
    "current_thread() is an inbuilt method of the threading module in Python. It is used to return the current Thread object, which corresponds to the caller's thread of control.\n",
    "(3) enumerate:-\n",
    "Enumerate is a built-in function in python that allows you to keep track of the number of iterations (loops) in a loop."
   ]
  },
  {
   "cell_type": "markdown",
   "id": "fd794571-381c-432f-827a-e791c0d03cdd",
   "metadata": {},
   "source": [
    "Q3. Explain the following functions\n",
    "(1) run\n",
    "(2) start\n",
    "(3) join\n",
    "(4) isAlive"
   ]
  },
  {
   "cell_type": "markdown",
   "id": "9da04829-9bfd-4788-8a75-75af977776c1",
   "metadata": {},
   "source": [
    "Ans:-(1) Run:-\n",
    "run() method executes any target function belonging to a given thread object that is now active. It normally executes in the background after the . start() method is invoked.\n",
    "(2) start:-\n",
    "start() method is an inbuilt method of the Thread class of the threading module, it is used to start a thread's activity.\n",
    "(3) join:-\n",
    "The . join() method delays a program's flow of execution until the target thread has been completely read.\n",
    "(4) isAlive:-\n",
    "is_alive() method is an inbuilt method of the Thread class of the threading module, it is used to check whether that thread is alive or not, ie, it is still running or not. This method returns True before the run() starts until just after the run() method is executed."
   ]
  },
  {
   "cell_type": "markdown",
   "id": "ad96862f-0e03-491e-8cc2-69ee205316d0",
   "metadata": {},
   "source": [
    "Q4. Write a python program to create two threads. Thread one must print the list of squares and thread two must print the list of cubes?"
   ]
  },
  {
   "cell_type": "code",
   "execution_count": 5,
   "id": "e2b6775b-39ee-440f-b651-556ad69dbbbb",
   "metadata": {},
   "outputs": [
    {
     "name": "stdout",
     "output_type": "stream",
     "text": [
      "cube:1000\n",
      "sqr:100\n",
      "done\n"
     ]
    }
   ],
   "source": [
    "import threading \n",
    "def print_cube(num):\n",
    "    print(\"cube:{}\".format(num*num*num))\n",
    "def print_sqr(num):\n",
    "    print(\"sqr:{}\".format(num*num))\n",
    "t1 = threading.Thread(target=print_cube,args=(10,))\n",
    "t2 = threading.Thread(target=print_sqr,args=(10,))\n",
    "t1.start()\n",
    "t2.start()\n",
    "t1.join()\n",
    "t2.join()\n",
    "print(\"done\")\n"
   ]
  },
  {
   "cell_type": "markdown",
   "id": "6cda4a1e-8587-4cfd-9d2a-7dce3703d0cd",
   "metadata": {},
   "source": [
    "Q.5. State advantages and disadvantages of multithreading?"
   ]
  },
  {
   "cell_type": "markdown",
   "id": "72756ac8-b467-4ea3-8f9a-c98d0ddf7f2c",
   "metadata": {},
   "source": [
    "Ans:-This model provides more concurrency than the many-to-one model. It also allows another thread to run when a thread makes a blocking system call. It supports multiple threads to execute in parallel on microprocessors. Disadvantage of this model is that creating user thread requires the corresponding Kernel thread.\n"
   ]
  },
  {
   "cell_type": "markdown",
   "id": "34fd2b89-335a-4de0-bdbb-54dc38e28fad",
   "metadata": {},
   "source": [
    "Q6. Explain deadlocks and race conditions."
   ]
  },
  {
   "cell_type": "markdown",
   "id": "2fd20a2f-be58-4c58-a998-7f14959d4551",
   "metadata": {},
   "source": [
    "Ans:-"
   ]
  },
  {
   "cell_type": "code",
   "execution_count": null,
   "id": "a6bc8eca-4ac5-43eb-94b9-c43cfde92f08",
   "metadata": {},
   "outputs": [],
   "source": []
  }
 ],
 "metadata": {
  "kernelspec": {
   "display_name": "Python 3 (ipykernel)",
   "language": "python",
   "name": "python3"
  },
  "language_info": {
   "codemirror_mode": {
    "name": "ipython",
    "version": 3
   },
   "file_extension": ".py",
   "mimetype": "text/x-python",
   "name": "python",
   "nbconvert_exporter": "python",
   "pygments_lexer": "ipython3",
   "version": "3.10.8"
  }
 },
 "nbformat": 4,
 "nbformat_minor": 5
}
