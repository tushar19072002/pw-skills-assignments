{
 "cells": [
  {
   "cell_type": "markdown",
   "id": "c238c30e-f328-4ed5-9b71-550109505bfa",
   "metadata": {},
   "source": [
    "Q1. Write all the conventions being followed while declaring a variable."
   ]
  },
  {
   "cell_type": "markdown",
   "id": "e30a405d-33fb-4110-beee-7033a8ab218a",
   "metadata": {},
   "source": [
    "Ans:- the conventions followed in python while declaring variables in python are :-\n",
    "There is no space in name of variable , we can use underscore in name.\n",
    "Means variable must start with a letter,underscore or non-digi chaacter."
   ]
  },
  {
   "cell_type": "markdown",
   "id": "892d6647-e746-4ba5-8a68-95abef97b610",
   "metadata": {},
   "source": [
    "Q2. What will happen if we declare a restricted keyword as a variable?"
   ]
  },
  {
   "cell_type": "markdown",
   "id": "24df083f-ae15-4570-8832-44a949cbe73e",
   "metadata": {},
   "source": [
    "Ans:- if we use restricted key words in python it will gives us syntax error."
   ]
  },
  {
   "cell_type": "code",
   "execution_count": 1,
   "id": "6baae62d-208d-46cf-9efc-8d7a7238deb6",
   "metadata": {},
   "outputs": [
    {
     "ename": "SyntaxError",
     "evalue": "invalid syntax (726876682.py, line 1)",
     "output_type": "error",
     "traceback": [
      "\u001b[0;36m  Cell \u001b[0;32mIn[1], line 1\u001b[0;36m\u001b[0m\n\u001b[0;31m    and = 1,2,3\u001b[0m\n\u001b[0m    ^\u001b[0m\n\u001b[0;31mSyntaxError\u001b[0m\u001b[0;31m:\u001b[0m invalid syntax\n"
     ]
    }
   ],
   "source": [
    "and = 1,2,3\n",
    "and"
   ]
  },
  {
   "cell_type": "markdown",
   "id": "1fdb7d8b-eccc-4a25-ba05-6aa350474915",
   "metadata": {},
   "source": [
    "Q3. Can we actually declare a string as a variable name?"
   ]
  },
  {
   "cell_type": "markdown",
   "id": "701dc2f0-d54f-4012-bf4b-370d3ba548d8",
   "metadata": {},
   "source": [
    "Ans:- No, we can not use a string as a variable name , it will gives us syntax error."
   ]
  },
  {
   "cell_type": "code",
   "execution_count": 3,
   "id": "88ffd188-d2cd-43b6-8340-00d5c2cf117b",
   "metadata": {},
   "outputs": [
    {
     "ename": "SyntaxError",
     "evalue": "cannot assign to literal here. Maybe you meant '==' instead of '='? (4235694514.py, line 1)",
     "output_type": "error",
     "traceback": [
      "\u001b[0;36m  Cell \u001b[0;32mIn[3], line 1\u001b[0;36m\u001b[0m\n\u001b[0;31m    \"tushar\" = 10.23\u001b[0m\n\u001b[0m    ^\u001b[0m\n\u001b[0;31mSyntaxError\u001b[0m\u001b[0;31m:\u001b[0m cannot assign to literal here. Maybe you meant '==' instead of '='?\n"
     ]
    }
   ],
   "source": [
    "\"tushar\" = 10.23\n",
    "\"tushar\""
   ]
  },
  {
   "cell_type": "markdown",
   "id": "2b40398c-c84a-4980-9ef9-6285e516b039",
   "metadata": {},
   "source": [
    "Q4. Is it possible for us to declare “_” as a variable? If so, then write an example of it."
   ]
  },
  {
   "cell_type": "markdown",
   "id": "84effa4f-e873-4a6c-b971-76a69f2bcaa7",
   "metadata": {},
   "source": [
    "Ans:- Yes we can declare a variable using _(underscore)."
   ]
  },
  {
   "cell_type": "code",
   "execution_count": 5,
   "id": "c81c38f4-3c50-4026-854e-acbce3a43559",
   "metadata": {},
   "outputs": [
    {
     "data": {
      "text/plain": [
       "5"
      ]
     },
     "execution_count": 5,
     "metadata": {},
     "output_type": "execute_result"
    }
   ],
   "source": [
    "_ = 2\n",
    "a = 3\n",
    "_+a"
   ]
  },
  {
   "cell_type": "markdown",
   "id": "0550e864-721b-4c0f-9728-08808b0b84a3",
   "metadata": {},
   "source": [
    "Q5. Using an example, explain how the variables in python are dynamic in nature."
   ]
  },
  {
   "cell_type": "code",
   "execution_count": null,
   "id": "cf3ab993-80f6-48e7-82b6-80089a989129",
   "metadata": {},
   "outputs": [],
   "source": [
    "Ans:- Python variables are dynamic because if  we use same variable again it will overwrite the previous one\n"
   ]
  },
  {
   "cell_type": "code",
   "execution_count": null,
   "id": "b483d2f9-5839-42e6-80a6-10830b784270",
   "metadata": {},
   "outputs": [],
   "source": [
    "a = \"Tushar\"\n",
    "b = \""
   ]
  }
 ],
 "metadata": {
  "kernelspec": {
   "display_name": "Python 3 (ipykernel)",
   "language": "python",
   "name": "python3"
  },
  "language_info": {
   "codemirror_mode": {
    "name": "ipython",
    "version": 3
   },
   "file_extension": ".py",
   "mimetype": "text/x-python",
   "name": "python",
   "nbconvert_exporter": "python",
   "pygments_lexer": "ipython3",
   "version": "3.10.8"
  }
 },
 "nbformat": 4,
 "nbformat_minor": 5
}
