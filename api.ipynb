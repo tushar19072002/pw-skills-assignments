{
 "cells": [
  {
   "cell_type": "markdown",
   "id": "79e43966-c8f4-4860-8d6d-90734f13a79b",
   "metadata": {},
   "source": [
    "Q1. What is an API? Give an example, where an API is used in real life."
   ]
  },
  {
   "cell_type": "markdown",
   "id": "b0dc37f5-1269-4195-80cf-9e5abfd9822b",
   "metadata": {},
   "source": [
    "Ans:-APIs are used in web applications to connect user-facing front ends with critical back-end functionality and data. APIs are used to deliver material by streaming services such as Spotify and Netflix. APIs are used by automakers such as Tesla to provide software upgrades."
   ]
  },
  {
   "cell_type": "markdown",
   "id": "b1f85af7-8d1a-4694-9205-eff6aa831390",
   "metadata": {},
   "source": [
    "Q2. Give advantages and disadvantages of using API."
   ]
  },
  {
   "cell_type": "markdown",
   "id": "efec48a6-a54b-4b04-9d70-1de5194175d0",
   "metadata": {},
   "source": [
    "Ans:- Advantages:-\n",
    "The major benefit of using an API is accessing and consuming data and services from thousands of independent sources. This means organizations of all sizes can access these functionalities without developing their own specialized applications. Other major benefits to using APIs include: APIs increase business agility.\n",
    "\n",
    "Disadvantages:-\n"
   ]
  },
  {
   "cell_type": "markdown",
   "id": "dec672d7-5d3c-4ccf-9e10-abcff813b324",
   "metadata": {},
   "source": [
    "Q3. What is a Web API? Differentiate between API and Web API."
   ]
  },
  {
   "cell_type": "markdown",
   "id": "bb082d3b-223e-4585-a9ff-52e32b6ebed4",
   "metadata": {},
   "source": [
    "Ans:- API is some kind of interface which has a set of functions that allow programmers to access specific features or data of an application, operating system or other services.\n",
    "Web api :- Web API as the name suggests, is an API over the web which can be accessed using HTTP protocol."
   ]
  },
  {
   "cell_type": "markdown",
   "id": "dc6859f2-bb29-40d4-b31c-959fd1aabdf6",
   "metadata": {},
   "source": [
    "Q4. Explain REST and SOAP Architecture. Mention shortcomings of SOAP."
   ]
  },
  {
   "cell_type": "markdown",
   "id": "6c44e5ef-bb5d-44b3-964b-4f4f5ffb831d",
   "metadata": {},
   "source": [
    "Ans:- SOAP uses only XML for exchanging information in its message format whereas REST is not restricted to XML and its the choice of implementer which Media-Type to use like XML, JSON, Plain-text. Moreover, REST can use SOAP protocol but SOAP cannot use REST"
   ]
  },
  {
   "cell_type": "markdown",
   "id": "91dd32ca-876c-4477-9581-7f3b3589f2f7",
   "metadata": {},
   "source": [
    "Ans:-REST is a set of guidelines that offers flexible implementation, whereas SOAP is a protocol with specific requirements like XML messaging. REST APIs are lightweight, making them ideal for newer contexts like the Internet of Things (IoT), mobile application development, and serverless computing."
   ]
  },
  {
   "cell_type": "code",
   "execution_count": null,
   "id": "56e04cf5-78ba-403d-8a92-f00f0a4ba072",
   "metadata": {},
   "outputs": [],
   "source": []
  },
  {
   "cell_type": "code",
   "execution_count": null,
   "id": "3ab3eba0-14fa-40b1-a6ea-20c9ec9ef108",
   "metadata": {},
   "outputs": [],
   "source": []
  },
  {
   "cell_type": "code",
   "execution_count": null,
   "id": "133a6949-a915-4259-957c-f96867b4aebc",
   "metadata": {},
   "outputs": [],
   "source": []
  },
  {
   "cell_type": "code",
   "execution_count": null,
   "id": "8fd884db-a8df-4c8e-9145-04e393a6fdbf",
   "metadata": {},
   "outputs": [],
   "source": [
    "\n"
   ]
  }
 ],
 "metadata": {
  "kernelspec": {
   "display_name": "Python 3 (ipykernel)",
   "language": "python",
   "name": "python3"
  },
  "language_info": {
   "codemirror_mode": {
    "name": "ipython",
    "version": 3
   },
   "file_extension": ".py",
   "mimetype": "text/x-python",
   "name": "python",
   "nbconvert_exporter": "python",
   "pygments_lexer": "ipython3",
   "version": "3.10.8"
  }
 },
 "nbformat": 4,
 "nbformat_minor": 5
}
