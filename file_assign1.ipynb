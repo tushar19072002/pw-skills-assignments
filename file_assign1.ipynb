{
 "cells": [
  {
   "cell_type": "markdown",
   "id": "ee995eea-604d-4f3a-a1ff-b0ffa1465b27",
   "metadata": {},
   "source": [
    "Q1. Which function is used to open a file? What are the different modes of opening a file? Explain each mode\n",
    "of file opening."
   ]
  },
  {
   "cell_type": "markdown",
   "id": "109a8507-72ba-4ceb-98d7-cf45ba8d3da8",
   "metadata": {},
   "source": [
    "Ans:- Open() function is used to open a file in python.\n",
    "modes of opening a file as as follows:-"
   ]
  },
  {
   "cell_type": "code",
   "execution_count": 1,
   "id": "7866a55b-ba52-4b0e-9738-95201f7c3d85",
   "metadata": {},
   "outputs": [],
   "source": [
    "file = open(\"new_file.txt\",\"w\")"
   ]
  },
  {
   "cell_type": "code",
   "execution_count": 6,
   "id": "13979c5a-57cc-48a3-ad11-8ec7303c65a6",
   "metadata": {},
   "outputs": [
    {
     "name": "stdout",
     "output_type": "stream",
     "text": [
      "\n"
     ]
    }
   ],
   "source": [
    "with open(\"new1.txt\",\"r\") as f:\n",
    "    print(f.read())\n",
    "    "
   ]
  },
  {
   "cell_type": "markdown",
   "id": "bf0cea00-a59b-46fc-b19b-c813bb5e5f92",
   "metadata": {},
   "source": [
    "Q2. Why close() function is used? Why is it important to close a file?"
   ]
  },
  {
   "cell_type": "markdown",
   "id": "a451a20d-8697-48e8-973b-daa5129b9c8e",
   "metadata": {},
   "source": [
    "Ans:- The close() method closes an open file. You should always close your files, in some cases, due to buffering, changes made to a file may not show until you close the file.\n",
    "it is important to make the file available for other user, simply closing a file means dissconnection the connection of file with the application."
   ]
  },
  {
   "cell_type": "markdown",
   "id": "537fe2ac-c710-43e4-8d26-376d6c09cdbd",
   "metadata": {},
   "source": [
    "Q3. Write a python program to create a text file. Write ‘I want to become a Data Scientist’ in that file. Then close the file. Open this file and read the content of the file."
   ]
  },
  {
   "cell_type": "code",
   "execution_count": 10,
   "id": "7f1b76ae-21bb-4aa4-8543-ab7ed607217d",
   "metadata": {},
   "outputs": [
    {
     "name": "stdout",
     "output_type": "stream",
     "text": [
      "I want to become a data scientist\n"
     ]
    }
   ],
   "source": [
    "with open(\"file.txt\",\"w\") as file1:\n",
    "    file1.write(\"I want to become a data scientist\")\n",
    "    file1.close()\n",
    "data = open(\"file.txt\",\"r\")\n",
    "for i in data:\n",
    "    print(i)"
   ]
  },
  {
   "cell_type": "markdown",
   "id": "5db0b3e6-a5b6-4741-a3a3-3007e561d7e4",
   "metadata": {},
   "source": [
    "Q4. Explain the following with python code: read(), readline() and readlines()."
   ]
  },
  {
   "cell_type": "markdown",
   "id": "eecf3275-d2f7-4d5c-85f8-a71861ffe30e",
   "metadata": {},
   "source": [
    "Ans:-The read() method returns the specified number of bytes from the file. Default is -1 which means the whole file.\n",
    "The readline() method returns one line from the file.\n",
    "The readlines() method returns a list containing each line in the file as a list item."
   ]
  },
  {
   "cell_type": "markdown",
   "id": "044eb30e-8394-4ecf-9737-68c0985a641b",
   "metadata": {},
   "source": [
    "Q5. Explain why with statement is used with open(). What is the advantage of using with statement and open() together?"
   ]
  },
  {
   "cell_type": "markdown",
   "id": "b2b53363-4f22-4b03-8a63-2d6cb6504ba6",
   "metadata": {},
   "source": [
    "Ans:-The with statement works with the open() function to open a file. Unlike open() where you have to close the file with the close() method, the with statement closes the file for you without you telling it to.\n",
    "Its advantage is you dont have to close the file."
   ]
  },
  {
   "cell_type": "markdown",
   "id": "f15a8cfa-1df1-41ab-a35a-6cdeddf8615f",
   "metadata": {},
   "source": [
    "Q6. Explain the write() and writelines() functions. Give a suitable example."
   ]
  },
  {
   "cell_type": "markdown",
   "id": "caf5ef40-b256-435e-84fc-256aa1c5b2f6",
   "metadata": {},
   "source": [
    "Ans:-The write() function will write the content in the file without adding any extra characters."
   ]
  },
  {
   "cell_type": "code",
   "execution_count": 16,
   "id": "c97e3b7d-2a55-4cba-99b7-abef7ea9cd77",
   "metadata": {},
   "outputs": [
    {
     "name": "stdin",
     "output_type": "stream",
     "text": [
      "Enter the name of the employee:  tushar\n",
      "Enter the name of the employee:  garvit\n",
      "Enter the name of the employee:  aayush\n"
     ]
    },
    {
     "name": "stdout",
     "output_type": "stream",
     "text": [
      "Data is written into the file.\n"
     ]
    }
   ],
   "source": [
    "file = open(\"Employees.txt\", \"w\")\n",
    "\n",
    "for i in range(3):\n",
    "    name = input(\"Enter the name of the employee: \")\n",
    "    file.write(name)\n",
    "    file.write(\"\\n\")\n",
    "\n",
    "file.close()\n",
    "\n",
    "print(\"Data is written into the file.\")\n",
    "\n"
   ]
  },
  {
   "cell_type": "markdown",
   "id": "233d60f7-5533-4a9e-bed9-e2a4ba13f934",
   "metadata": {},
   "source": [
    "writelines() function\n",
    "This function writes the content of a list to a file."
   ]
  },
  {
   "cell_type": "code",
   "execution_count": 17,
   "id": "a048c9e2-23c2-4022-a7f1-5e40379fbd88",
   "metadata": {},
   "outputs": [
    {
     "name": "stdin",
     "output_type": "stream",
     "text": [
      "Enter the name of the employee:  tushar\n",
      "Enter the name of the employee:  garvit\n",
      "Enter the name of the employee:  aayush\n"
     ]
    },
    {
     "name": "stdout",
     "output_type": "stream",
     "text": [
      "Data is written into the file.\n"
     ]
    }
   ],
   "source": [
    "file1 = open(\"Employees.txt\", \"w\")\n",
    "lst = []\n",
    "for i in range(3):\n",
    "\tname = input(\"Enter the name of the employee: \")\n",
    "\tlst.append(name + '\\n')\n",
    "\t\n",
    "file1.writelines(lst)\n",
    "file1.close()\n",
    "print(\"Data is written into the file.\")\n"
   ]
  }
 ],
 "metadata": {
  "kernelspec": {
   "display_name": "Python 3 (ipykernel)",
   "language": "python",
   "name": "python3"
  },
  "language_info": {
   "codemirror_mode": {
    "name": "ipython",
    "version": 3
   },
   "file_extension": ".py",
   "mimetype": "text/x-python",
   "name": "python",
   "nbconvert_exporter": "python",
   "pygments_lexer": "ipython3",
   "version": "3.10.8"
  }
 },
 "nbformat": 4,
 "nbformat_minor": 5
}
