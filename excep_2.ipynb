{
 "cells": [
  {
   "cell_type": "markdown",
   "id": "17afc531-603f-446b-8192-76899e7e2463",
   "metadata": {},
   "source": [
    "Q1. Explain why we have to use the Exception class while creating a Custom Exception."
   ]
  },
  {
   "cell_type": "markdown",
   "id": "0d03f03e-1266-4b32-8377-9daa8db2d63e",
   "metadata": {},
   "source": [
    "Ans:- Built-in exceptions offer information about Python-related problems, and custom exceptions will add information about project-related problems. That way, you can design your code (and traceback, if an exception is raised) in a way that combines Python code with the language of the project."
   ]
  },
  {
   "cell_type": "markdown",
   "id": "bd6d5531-6363-4089-8882-9898e8bded01",
   "metadata": {},
   "source": [
    "Q.2:-Write a python program to print Python Exception Hierarchy."
   ]
  },
  {
   "cell_type": "code",
   "execution_count": 10,
   "id": "32698c69-4aa4-4663-a6a0-57d917ce9cae",
   "metadata": {},
   "outputs": [
    {
     "name": "stdout",
     "output_type": "stream",
     "text": [
      "          Exception\n",
      "             |     \n",
      "             |     \n",
      "             v     \n",
      "------------------------------------\n",
      "|                    |             |\n",
      "v                    v             v\n",
      "ArithmaticError ValueError     LookUp Error\n",
      "     |                            |      \n",
      "------------------             -------------\n",
      "|                |            |           |\n",
      "v                v            v           v\n",
      "ZeroDivision   OverflowError IndexError  KeyError\n"
     ]
    }
   ],
   "source": [
    "def except1():\n",
    "    print(\"          Exception\")\n",
    "    print(\"             |     \")\n",
    "    print(\"             |     \")\n",
    "    print(\"             v     \")\n",
    "    print(\"------------------------------------\")\n",
    "    print(\"|                    |             |\")\n",
    "    print(\"v                    v             v\")\n",
    "    print(\"ArithmaticError ValueError     LookUp Error\")\n",
    "    print(\"     |                            |      \")\n",
    "    print(\"------------------             -------------\")\n",
    "    print(\"|                |            |           |\")\n",
    "    print(\"v                v            v           v\")\n",
    "    print(\"ZeroDivision   OverflowError IndexError  KeyError\")\n",
    "except1()"
   ]
  },
  {
   "cell_type": "markdown",
   "id": "6bb30dae-3949-407d-8149-9293ce09d2c6",
   "metadata": {},
   "source": [
    "Q3. What errors are defined in the ArithmeticError class? Explain any two with an example."
   ]
  },
  {
   "cell_type": "markdown",
   "id": "b7372670-c939-465d-804b-4d391297be5f",
   "metadata": {},
   "source": [
    "Ans:-The arithmetic error occurs when an error is encountered during numeric calculations in Python. This includes Zerodivision Error and Floating point error. In addition, zero division error is raised when you divide a numeric value by zero. When we run this code, we will get a ZeroDivision error."
   ]
  },
  {
   "cell_type": "code",
   "execution_count": 14,
   "id": "d76ae85d-8edd-4a3c-a925-bd31f3bd6888",
   "metadata": {},
   "outputs": [],
   "source": [
    "# Zero division Error\n",
    "try:\n",
    "    a =10\n",
    "    a/10\n",
    "except ZeroDivisionError as e:\n",
    "    print(e)"
   ]
  },
  {
   "cell_type": "markdown",
   "id": "b6ba6e56-447b-421f-8903-a93878123a32",
   "metadata": {},
   "source": [
    "Q4. Why LookupError class is used? Explain with an example KeyError and IndexError."
   ]
  },
  {
   "cell_type": "markdown",
   "id": "0f640c78-a4ac-41ee-841e-9ad740f49d63",
   "metadata": {},
   "source": [
    "Ans:-The LookupError exception in Python forms the base class for all exceptions that are raised when an index or a key is not found for a sequence or dictionary respectively. You can use LookupError exception class to handle both IndexError and KeyError exception classes"
   ]
  },
  {
   "cell_type": "code",
   "execution_count": 13,
   "id": "3fdf836b-b7b3-4189-931a-7184de4b43c1",
   "metadata": {},
   "outputs": [
    {
     "name": "stdout",
     "output_type": "stream",
     "text": [
      "'mob'\n"
     ]
    }
   ],
   "source": [
    "# key error\n",
    "try:\n",
    "    l = {\"name\":\"Tushar\",\"batch\":\"Data Science Masters Batch\"}\n",
    "    l[\"mob\"]\n",
    "except KeyError as e:\n",
    "    print(e)\n",
    "         "
   ]
  },
  {
   "cell_type": "code",
   "execution_count": 15,
   "id": "ba78a070-cb9b-4409-a536-268ceea8fa35",
   "metadata": {},
   "outputs": [
    {
     "name": "stdout",
     "output_type": "stream",
     "text": [
      "list index out of range\n"
     ]
    }
   ],
   "source": [
    "# inder Error\n",
    "try:\n",
    "    l =[1,2,3,4,5,6,7]\n",
    "    l[15]\n",
    "except IndexError as e:\n",
    "    print(e)"
   ]
  },
  {
   "cell_type": "markdown",
   "id": "45352447-9310-4b88-b2d1-893a31df0c56",
   "metadata": {},
   "source": [
    "Q5. Explain ImportError. What is ModuleNotFoundError?"
   ]
  },
  {
   "cell_type": "markdown",
   "id": "98258835-a219-4526-8843-b760d1ba0ad4",
   "metadata": {},
   "source": [
    "Ans:- Python's ImportError ( ModuleNotFoundError ) indicates that you tried to import a module that Python doesn't find."
   ]
  },
  {
   "cell_type": "markdown",
   "id": "358cebf8-e5cc-4f35-a5a1-1b6752863a9a",
   "metadata": {},
   "source": [
    "Q6. List down some best practices for exception handling in python."
   ]
  },
  {
   "cell_type": "markdown",
   "id": "439487d2-c147-4aa3-aec2-8fc935b36f21",
   "metadata": {},
   "source": [
    "Ans:-\n",
    "# use always a specific exceptions\n",
    "# this is generic type of error try to write the specific error my mentioning error type correctly\n",
    "# print always valid message\n",
    "# always try to make proper documentation\n",
    "# clean up all the resources"
   ]
  },
  {
   "cell_type": "code",
   "execution_count": null,
   "id": "c406e3f8-2103-4c75-b266-7599e831761b",
   "metadata": {},
   "outputs": [],
   "source": []
  },
  {
   "cell_type": "code",
   "execution_count": null,
   "id": "47f63bf6-1957-424d-acc8-9891216edcd5",
   "metadata": {},
   "outputs": [],
   "source": []
  },
  {
   "cell_type": "code",
   "execution_count": null,
   "id": "a776a54a-09a6-4324-bf82-c7d22677ad19",
   "metadata": {},
   "outputs": [],
   "source": []
  }
 ],
 "metadata": {
  "kernelspec": {
   "display_name": "Python 3 (ipykernel)",
   "language": "python",
   "name": "python3"
  },
  "language_info": {
   "codemirror_mode": {
    "name": "ipython",
    "version": 3
   },
   "file_extension": ".py",
   "mimetype": "text/x-python",
   "name": "python",
   "nbconvert_exporter": "python",
   "pygments_lexer": "ipython3",
   "version": "3.10.8"
  }
 },
 "nbformat": 4,
 "nbformat_minor": 5
}
