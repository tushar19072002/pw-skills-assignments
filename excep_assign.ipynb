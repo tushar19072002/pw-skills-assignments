{
 "cells": [
  {
   "cell_type": "markdown",
   "id": "b6b31310-1ed4-437a-9306-c1436945691c",
   "metadata": {},
   "source": [
    "Q1. What is an Exception in python? Write the difference between Exceptions and syntax errors?"
   ]
  },
  {
   "cell_type": "markdown",
   "id": "c3b85b7a-019d-4c3d-b2c6-7c13f58bd84f",
   "metadata": {},
   "source": [
    "Ans:-In general, when a Python script encounters a situation that it cannot cope with, it raises an exception. An exception is a Python object that represents an error. When a Python script raises an exception, it must either handle the exception immediately otherwise it terminates and quits.\n",
    "An Exception is an event that occurs during the program execution and disrupts the normal flow of the program's execution. Errors mostly happen at compile-time like syntax error; however it can happen at runtime as well. Whereas an Exception occurs at runtime (checked exceptions can be detected at compile time)."
   ]
  },
  {
   "cell_type": "markdown",
   "id": "00a755aa-0c29-4a2a-8cba-a35fdbeff939",
   "metadata": {},
   "source": [
    "Q2. What happens when an exception is not handled? Explain with an example?\n",
    "Ans:-  If an exception is not caught (with a catch block), the runtime system will abort the program (i.e. crash) and an exception message will print to the console. The message typically includes: name of exception type"
   ]
  },
  {
   "cell_type": "code",
   "execution_count": 1,
   "id": "f3e0cb3c-891e-4855-af21-ef959a8f659c",
   "metadata": {},
   "outputs": [
    {
     "name": "stdout",
     "output_type": "stream",
     "text": [
      "list index out of range\n"
     ]
    }
   ],
   "source": [
    "try:\n",
    "    l = [1,2,3,4,5]\n",
    "    l[10]\n",
    "except IndexError as e:\n",
    "    print(e)"
   ]
  },
  {
   "cell_type": "markdown",
   "id": "c3f06e4e-7a62-4cfb-96ec-c8b87525c015",
   "metadata": {},
   "source": [
    "Q3. Which Python statements are used to catch and handle exceptions? Explain withan example?"
   ]
  },
  {
   "cell_type": "markdown",
   "id": "dab5f345-4b52-4732-956c-757bc83959fe",
   "metadata": {},
   "source": [
    "Ans:- except statement is to catch and hanle except statement in python."
   ]
  },
  {
   "cell_type": "code",
   "execution_count": 2,
   "id": "e9bfbb22-5da6-4c4b-a91c-3e7dc9c2c904",
   "metadata": {},
   "outputs": [
    {
     "name": "stdout",
     "output_type": "stream",
     "text": [
      "error caught\n"
     ]
    }
   ],
   "source": [
    "try:\n",
    "    a= 133\n",
    "    a/0\n",
    "except:\n",
    "    print(\"error caught\")"
   ]
  },
  {
   "cell_type": "markdown",
   "id": "ef693b45-194d-4657-a0cb-25d7e4c72f43",
   "metadata": {},
   "source": [
    "Q4. Explain with an example:\n",
    "#try and else\n",
    "#finally\n",
    "#raise"
   ]
  },
  {
   "cell_type": "markdown",
   "id": "224ff2cd-363a-4dec-8a7b-81b5bb335367",
   "metadata": {},
   "source": [
    "try: try will try to excecute the instruction given\n",
    "else: else will be executed when any instrucion is false"
   ]
  },
  {
   "cell_type": "markdown",
   "id": "ecd5ed07-fb89-4091-ac6e-d13ca3c87434",
   "metadata": {},
   "source": [
    "finally: it will be executed either try is executed or except "
   ]
  },
  {
   "cell_type": "code",
   "execution_count": 4,
   "id": "7fe8e615-b495-49ed-98a0-d052a0fba2ce",
   "metadata": {},
   "outputs": [
    {
     "name": "stdout",
     "output_type": "stream",
     "text": [
      "list index out of range\n",
      "programme completed\n"
     ]
    }
   ],
   "source": [
    "try:\n",
    "    l  = [1,2,3]\n",
    "    l[10]\n",
    "except IndexError as e:\n",
    "    print(e)\n",
    "finally:\n",
    "    print(\"programme completed\")"
   ]
  },
  {
   "cell_type": "code",
   "execution_count": 9,
   "id": "70e31e31-e7c0-4f29-bb78-ae53ce03affc",
   "metadata": {},
   "outputs": [],
   "source": [
    "x = -1\n",
    "if x < 0:\n",
    "    raise Exception(\"Sorry, no numbers below zero\")"
   ]
  },
  {
   "cell_type": "markdown",
   "id": "85ec7c33-7a00-4d69-a58f-549deb8267b3",
   "metadata": {},
   "source": [
    "Q5. What are Custom Exceptions in python? Why do we need Custom Exceptions? Explain with an example?"
   ]
  },
  {
   "cell_type": "markdown",
   "id": "7b870b57-1391-4a4a-8933-63bb2fef8501",
   "metadata": {},
   "source": [
    "Ans:-In Python, we can define custom exceptions by creating a new class that is derived from the built-in Exception class. Here's the syntax to define custom exceptions, class CustomError(Exception). we need customs exception to create user defined exceptions."
   ]
  },
  {
   "cell_type": "code",
   "execution_count": 14,
   "id": "1818af81-451d-4841-ade8-31c79940ce94",
   "metadata": {},
   "outputs": [],
   "source": [
    "class CustomError(Exception):\n",
    "    pass\n",
    "\n",
    "raise CustomError(\"Example of Custom Exceptions in Python\")"
   ]
  },
  {
   "cell_type": "markdown",
   "id": "22a1464d-b016-4657-af76-ca79ff50f3bc",
   "metadata": {},
   "source": [
    "Q6. Create a custom exception class .Use this class to handle an exception."
   ]
  },
  {
   "cell_type": "code",
   "execution_count": 17,
   "id": "cc4dd2e9-26ec-4a7a-b774-6eb62df38758",
   "metadata": {},
   "outputs": [],
   "source": [
    "class custom(Exception):\n",
    "    a = 10\n",
    "    try:\n",
    "        a/10\n",
    "    except:\n",
    "        pass\n",
    "raise custom(\"error\")"
   ]
  }
 ],
 "metadata": {
  "kernelspec": {
   "display_name": "Python 3 (ipykernel)",
   "language": "python",
   "name": "python3"
  },
  "language_info": {
   "codemirror_mode": {
    "name": "ipython",
    "version": 3
   },
   "file_extension": ".py",
   "mimetype": "text/x-python",
   "name": "python",
   "nbconvert_exporter": "python",
   "pygments_lexer": "ipython3",
   "version": "3.10.8"
  }
 },
 "nbformat": 4,
 "nbformat_minor": 5
}
