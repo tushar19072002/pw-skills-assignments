{
 "cells": [
  {
   "cell_type": "markdown",
   "id": "05fdc03d-2577-4262-aa80-a3d2447c8915",
   "metadata": {},
   "source": [
    "Q1. Explain Class and Object with respect to Object-Oriented Programming. Give a suitable example."
   ]
  },
  {
   "cell_type": "markdown",
   "id": "12727899-b98e-421e-ac36-c8e81959958f",
   "metadata": {},
   "source": [
    "Ans:-A class is considered as a blueprint of objects. We can think of the class as a sketch (prototype) of a house. It contains all the details about the floors, doors, windows, etc. Based on these descriptions we build the house. House is the object."
   ]
  },
  {
   "cell_type": "code",
   "execution_count": null,
   "id": "96081371-3789-42c3-bf07-a4fd85c3c9fb",
   "metadata": {},
   "outputs": [],
   "source": [
    "class bike:\n",
    "    name = \"\"\n",
    "    gear = \"\"\n",
    "    color = \"\""
   ]
  },
  {
   "cell_type": "markdown",
   "id": "d73ab731-eadc-4b1e-bd9a-214d966fc652",
   "metadata": {},
   "source": [
    "object:-An object is called an instance of a class. For example, suppose Bike is a class then we can create objects like bike1, bike2, etc from the class."
   ]
  },
  {
   "cell_type": "code",
   "execution_count": 2,
   "id": "3e7a05c4-6a89-41f7-9cd5-b98bd095e12a",
   "metadata": {},
   "outputs": [
    {
     "name": "stdout",
     "output_type": "stream",
     "text": [
      "Name: apache, Gears: 6 \n"
     ]
    }
   ],
   "source": [
    "class bikes():\n",
    "    name = \"\"\n",
    "    gear=0\n",
    "bike1 = bikes()\n",
    "bike1.name = \"apache\"\n",
    "bike1.gear = 6\n",
    "print(f\"Name: {bike1.name}, Gears: {bike1.gear} \")"
   ]
  },
  {
   "cell_type": "markdown",
   "id": "9ceac790-5521-4d91-a6be-d3eb2854ca19",
   "metadata": {},
   "source": [
    "Q2. Name the four pillars of OOPs."
   ]
  },
  {
   "cell_type": "markdown",
   "id": "e8b4c14c-b488-459d-a347-2cb3d984d373",
   "metadata": {},
   "source": [
    "Ans:-The four pillars of OOP are encapsulation, abstraction, inheritance, and polymorphism"
   ]
  },
  {
   "cell_type": "markdown",
   "id": "4456f91e-185c-498d-b868-ce9295d5b175",
   "metadata": {},
   "source": [
    "Q3. Explain why the __init__() function is used. Give a suitable example."
   ]
  },
  {
   "cell_type": "markdown",
   "id": "0a2280cd-6b01-4929-b679-20b9ff102b0e",
   "metadata": {},
   "source": [
    "Ans:-__init__ is a special python method that runs whenever a new object is created. These types of functions are used to initialize the attributes of that class"
   ]
  },
  {
   "cell_type": "code",
   "execution_count": 4,
   "id": "7994ca48-4e9c-471e-bdde-9b53111ab543",
   "metadata": {},
   "outputs": [
    {
     "name": "stdout",
     "output_type": "stream",
     "text": [
      "tushar\n",
      "20\n"
     ]
    }
   ],
   "source": [
    "class person:\n",
    "    def __init__(self,name,age):\n",
    "        self.name = name\n",
    "        self.age = age\n",
    "p1 = person(\"tushar\",20)\n",
    "print(p1.name)\n",
    "print(p1.age)"
   ]
  },
  {
   "cell_type": "markdown",
   "id": "8b37318e-9f47-45d5-ab8e-1394bef63ec9",
   "metadata": {},
   "source": [
    "Q4. Why self is used in OOPs?"
   ]
  },
  {
   "cell_type": "markdown",
   "id": "1e3a4d62-36bb-466b-9dd8-efe93472e28c",
   "metadata": {},
   "source": [
    "Ans:-The use of self makes it easier to distinguish between instance attributes (and methods) from local variables."
   ]
  },
  {
   "cell_type": "markdown",
   "id": "482a8c84-83b0-4f45-a803-c02eb2e5083e",
   "metadata": {},
   "source": [
    "Q5. What is inheritance? Give an example for each type of inheritance."
   ]
  },
  {
   "cell_type": "markdown",
   "id": "e6c660b8-adc7-4155-aeb0-d734622756b6",
   "metadata": {},
   "source": [
    "Ans:-There are four types of inheritance in Python.\n",
    "Single Inheritance: \n",
    "Single inheritance enables a derived class to inherit properties from a single parent class, thus enabling code reusability and the addition of new features to existing code."
   ]
  },
  {
   "cell_type": "code",
   "execution_count": 5,
   "id": "1ddb6326-1fc1-4d21-8afc-24d792b9733d",
   "metadata": {},
   "outputs": [
    {
     "name": "stdout",
     "output_type": "stream",
     "text": [
      "This function is in parent class.\n",
      "This function is in child class.\n"
     ]
    }
   ],
   "source": [
    "class Parent:\n",
    "    def func1(self):\n",
    "        print(\"This function is in parent class.\")\n",
    " \n",
    "\n",
    " \n",
    " \n",
    "class Child(Parent):\n",
    "    def func2(self):\n",
    "        print(\"This function is in child class.\")\n",
    " \n",
    " \n",
    "\n",
    "object = Child()\n",
    "object.func1()\n",
    "object.func2()"
   ]
  },
  {
   "cell_type": "markdown",
   "id": "02c22f77-45ea-4e8e-955b-ef4645903e4c",
   "metadata": {},
   "source": [
    "Multiple Inheritance: \n",
    "When a class can be derived from more than one base class this type of inheritance is called multiple inheritances. In multiple inheritances, all the features of the base classes are inherited into the derived class."
   ]
  },
  {
   "cell_type": "code",
   "execution_count": 6,
   "id": "7842ed66-1113-48c7-b6fc-b3a4808992bf",
   "metadata": {},
   "outputs": [
    {
     "name": "stdout",
     "output_type": "stream",
     "text": [
      "Father : RAM\n",
      "Mother : SITA\n"
     ]
    }
   ],
   "source": [
    "class Mother:\n",
    "    mothername = \"\"\n",
    " \n",
    "    def mother(self):\n",
    "        print(self.mothername)\n",
    " \n",
    "\n",
    " \n",
    " \n",
    "class Father:\n",
    "    fathername = \"\"\n",
    " \n",
    "    def father(self):\n",
    "        print(self.fathername)\n",
    " \n",
    "\n",
    " \n",
    "class Son(Mother, Father):\n",
    "    def parents(self):\n",
    "        print(\"Father :\", self.fathername)\n",
    "        print(\"Mother :\", self.mothername)\n",
    " \n",
    " \n",
    "\n",
    "s1 = Son()\n",
    "s1.fathername = \"RAM\"\n",
    "s1.mothername = \"SITA\"\n",
    "s1.parents()"
   ]
  },
  {
   "cell_type": "code",
   "execution_count": null,
   "id": "ca44c4de-fac2-4d0e-8ab5-39757876d6fb",
   "metadata": {},
   "outputs": [],
   "source": []
  },
  {
   "cell_type": "code",
   "execution_count": null,
   "id": "43082fab-504c-4c48-b6aa-13752940398a",
   "metadata": {},
   "outputs": [],
   "source": []
  },
  {
   "cell_type": "code",
   "execution_count": null,
   "id": "2db06538-efb9-4ea0-b474-e1d5d136e830",
   "metadata": {},
   "outputs": [],
   "source": []
  },
  {
   "cell_type": "code",
   "execution_count": null,
   "id": "cb417ac8-d584-4c88-a64e-10580ef1d68c",
   "metadata": {},
   "outputs": [],
   "source": []
  }
 ],
 "metadata": {
  "kernelspec": {
   "display_name": "Python 3 (ipykernel)",
   "language": "python",
   "name": "python3"
  },
  "language_info": {
   "codemirror_mode": {
    "name": "ipython",
    "version": 3
   },
   "file_extension": ".py",
   "mimetype": "text/x-python",
   "name": "python",
   "nbconvert_exporter": "python",
   "pygments_lexer": "ipython3",
   "version": "3.10.8"
  }
 },
 "nbformat": 4,
 "nbformat_minor": 5
}
