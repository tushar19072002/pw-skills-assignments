{
 "cells": [
  {
   "cell_type": "markdown",
   "id": "e6df32c8-94aa-448b-abcc-04ce98165c99",
   "metadata": {},
   "source": [
    "Q-1:-Create a python program to sort the given list of tuples based on integer value using a lambda function."
   ]
  },
  {
   "cell_type": "code",
   "execution_count": null,
   "id": "7656ebe4-e019-4c8c-be06-df1a42144b6a",
   "metadata": {},
   "outputs": [],
   "source": []
  },
  {
   "cell_type": "code",
   "execution_count": 18,
   "id": "094f6a4d-58b8-4317-8d56-c1dbe46fa00b",
   "metadata": {},
   "outputs": [
    {
     "data": {
      "text/plain": [
       "[24936, 25534, 27483, 34357]"
      ]
     },
     "execution_count": 18,
     "metadata": {},
     "output_type": "execute_result"
    }
   ],
   "source": [
    "l = [('Sachin Tendulkar', 34357), ('Ricky Ponting', 27483), ('Jack Kallis', 25534), ('Virat Kohli', 24936)]\n",
    "# sort1 = lambda x : x if x>y else y\n",
    "# sort1(l)\n",
    "l1=[]\n",
    "for i in l :\n",
    "    for j in i:\n",
    "        if type(j) == int:\n",
    "            l1.append(j)\n",
    "\n",
    "l1.sort()\n",
    "l1"
   ]
  },
  {
   "cell_type": "markdown",
   "id": "f4b29440-de2c-4c93-a150-f3a89254ecbe",
   "metadata": {},
   "source": [
    "Q-2:-Write a Python Program to find the squares of all the numbers in the given list of integers using lambda and map functions.\n",
    "[1, 2, 3, 4, 5, 6, 7, 8, 9, 10]"
   ]
  },
  {
   "cell_type": "code",
   "execution_count": 23,
   "id": "f9c938cb-ece7-4581-8605-a118de65dba5",
   "metadata": {},
   "outputs": [
    {
     "data": {
      "text/plain": [
       "[1, 4, 9, 16, 25, 36, 49, 64, 81, 100]"
      ]
     },
     "execution_count": 23,
     "metadata": {},
     "output_type": "execute_result"
    }
   ],
   "source": [
    "l = [1, 2, 3, 4, 5, 6, 7, 8, 9, 10]\n",
    "list(map(lambda x : x**2,l)) "
   ]
  },
  {
   "cell_type": "markdown",
   "id": "1b78f00c-f3e1-4cc3-a7a6-4b3579f0e85d",
   "metadata": {},
   "source": [
    "Q3. Write a python program to convert the given list of integers into a tuple of strings. Use map and lambda functions.\n",
    "Given String: [1, 2, 3, 4, 5, 6, 7, 8, 9, 10]\n",
    "Expected output: ('1', '2', '3', '4', '5', '6', '7', '8', '9', '10')"
   ]
  },
  {
   "cell_type": "code",
   "execution_count": 27,
   "id": "c336d206-d2c4-49ff-b725-dd85d0b30c4f",
   "metadata": {},
   "outputs": [
    {
     "data": {
      "text/plain": [
       "('1', '2', '3', '4', '5', '6', '7', '8', '9', '10')"
      ]
     },
     "execution_count": 27,
     "metadata": {},
     "output_type": "execute_result"
    }
   ],
   "source": [
    "l = [1, 2, 3, 4, 5, 6, 7, 8, 9, 10]\n",
    "tuple(map(lambda x:str(x),l))"
   ]
  },
  {
   "cell_type": "markdown",
   "id": "3093d7bb-f03a-4a5f-bda4-b77e90909322",
   "metadata": {},
   "source": [
    "Q.4:- Write a python program using reduce function to compute the product of a list containing numbers from 1 to 25."
   ]
  },
  {
   "cell_type": "code",
   "execution_count": 32,
   "id": "1c2509f3-9c1c-4ee3-b011-f138a6f4ccf5",
   "metadata": {},
   "outputs": [
    {
     "data": {
      "text/plain": [
       "15511210043330985984000000"
      ]
     },
     "execution_count": 32,
     "metadata": {},
     "output_type": "execute_result"
    }
   ],
   "source": [
    "from functools import reduce\n",
    "l = [1,2,3,4,5,6,7,8,9,10,11,12,13,14,15,16,17,18,19,20,21,22,23,24,25]\n",
    "reduce(lambda x,y:x*y,l)"
   ]
  },
  {
   "cell_type": "markdown",
   "id": "137662e1-94b0-47d1-9412-712336afcf8a",
   "metadata": {},
   "source": [
    "Q5. Write a python program to filter the numbers in a given list that are divisible by 2 and 3 using the filter function.\n",
    "[2, 3, 6, 9, 27, 60, 90, 120, 55, 46]"
   ]
  },
  {
   "cell_type": "code",
   "execution_count": 38,
   "id": "afe5c652-5e7c-4b1e-a12f-e76ad7cf753f",
   "metadata": {},
   "outputs": [
    {
     "data": {
      "text/plain": [
       "[6, 12, 18, 24]"
      ]
     },
     "execution_count": 38,
     "metadata": {},
     "output_type": "execute_result"
    }
   ],
   "source": [
    "list(filter(lambda x:x if x%2==0 and x%3 ==0 else 0,l))"
   ]
  },
  {
   "cell_type": "markdown",
   "id": "3af3795a-5423-4672-9d63-e03f5040a150",
   "metadata": {},
   "source": [
    "Q6. Write a python program to find palindromes in the given list of strings using lambda and filter\n",
    "function.\n",
    "['python', 'php', 'aba', 'radar', 'level']"
   ]
  },
  {
   "cell_type": "code",
   "execution_count": 49,
   "id": "efcee3ce-a980-4c62-beb9-fa4d482db5cd",
   "metadata": {},
   "outputs": [
    {
     "data": {
      "text/plain": [
       "['php', 'aba', 'radar', 'level']"
      ]
     },
     "execution_count": 49,
     "metadata": {},
     "output_type": "execute_result"
    }
   ],
   "source": [
    "l = ['python', 'php', 'aba', 'radar', 'level']\n",
    "list(filter(lambda x:x if x == x[::-1] else 0 ,l))"
   ]
  },
  {
   "cell_type": "code",
   "execution_count": null,
   "id": "87894608-d077-457e-b9b1-3f3ea952cd91",
   "metadata": {},
   "outputs": [],
   "source": []
  }
 ],
 "metadata": {
  "kernelspec": {
   "display_name": "Python 3 (ipykernel)",
   "language": "python",
   "name": "python3"
  },
  "language_info": {
   "codemirror_mode": {
    "name": "ipython",
    "version": 3
   },
   "file_extension": ".py",
   "mimetype": "text/x-python",
   "name": "python",
   "nbconvert_exporter": "python",
   "pygments_lexer": "ipython3",
   "version": "3.10.8"
  }
 },
 "nbformat": 4,
 "nbformat_minor": 5
}
