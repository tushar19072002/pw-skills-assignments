{
 "cells": [
  {
   "cell_type": "markdown",
   "id": "0dfa31bc-557e-44ac-8719-909ad684a9c2",
   "metadata": {},
   "source": [
    "Q1. Create an empty list."
   ]
  },
  {
   "cell_type": "code",
   "execution_count": 1,
   "id": "02643131-8b22-4c05-b8ae-3fa3fb274ccb",
   "metadata": {},
   "outputs": [
    {
     "data": {
      "text/plain": [
       "list"
      ]
     },
     "execution_count": 1,
     "metadata": {},
     "output_type": "execute_result"
    }
   ],
   "source": [
    "L1 = []\n",
    "type(L1)"
   ]
  },
  {
   "cell_type": "markdown",
   "id": "3356902b-d2cc-4e53-a497-a28e645cb5f8",
   "metadata": {},
   "source": [
    "Q2. Create a list and add an element to the end of this list."
   ]
  },
  {
   "cell_type": "code",
   "execution_count": 2,
   "id": "bac478d4-6f4b-46f6-8b38-344a5d0f115f",
   "metadata": {},
   "outputs": [
    {
     "data": {
      "text/plain": [
       "[1, 2, 3, 4]"
      ]
     },
     "execution_count": 2,
     "metadata": {},
     "output_type": "execute_result"
    }
   ],
   "source": [
    "l1 = [1,2,3]\n",
    "l1.append(4)\n",
    "l1"
   ]
  },
  {
   "cell_type": "markdown",
   "id": "2a7386c6-4cff-4852-8c3a-38c13fc95318",
   "metadata": {},
   "source": [
    "Q3. For the above created list print the last element."
   ]
  },
  {
   "cell_type": "code",
   "execution_count": 4,
   "id": "e39db2b5-297f-413e-ba93-a9af9935c7ce",
   "metadata": {},
   "outputs": [
    {
     "data": {
      "text/plain": [
       "4"
      ]
     },
     "execution_count": 4,
     "metadata": {},
     "output_type": "execute_result"
    }
   ],
   "source": [
    "l1[-1]"
   ]
  },
  {
   "cell_type": "code",
   "execution_count": null,
   "id": "692d3242-724f-462a-aeb7-abe370dbc5b2",
   "metadata": {},
   "outputs": [],
   "source": [
    "Q4. Reverse the above created list."
   ]
  },
  {
   "cell_type": "code",
   "execution_count": 5,
   "id": "19f090d1-3fb8-4d0e-80ee-505259c939e4",
   "metadata": {},
   "outputs": [
    {
     "data": {
      "text/plain": [
       "[4, 3, 2, 1]"
      ]
     },
     "execution_count": 5,
     "metadata": {},
     "output_type": "execute_result"
    }
   ],
   "source": [
    "l1[::-1]"
   ]
  },
  {
   "cell_type": "markdown",
   "id": "b9b4c4af-5a6a-4ce3-9ca6-142ca42ac698",
   "metadata": {},
   "source": [
    "Q5. Sort the above created list."
   ]
  },
  {
   "cell_type": "code",
   "execution_count": 11,
   "id": "094de371-4f9e-46d7-a6a9-5b1aa8ae9fd1",
   "metadata": {},
   "outputs": [
    {
     "data": {
      "text/plain": [
       "[2, 3, 5, 6, 8]"
      ]
     },
     "execution_count": 11,
     "metadata": {},
     "output_type": "execute_result"
    }
   ],
   "source": [
    "l2 = [3,2,5,6,8]\n",
    "l2.sort()\n",
    "l2"
   ]
  },
  {
   "cell_type": "markdown",
   "id": "5d302a81-faa7-4603-b773-125485388fbd",
   "metadata": {},
   "source": [
    "Q6. Create a list of your top three favorite movies, then print the second movie title.    "
   ]
  },
  {
   "cell_type": "code",
   "execution_count": 13,
   "id": "dfca0512-6e42-450f-b871-afa04d42c213",
   "metadata": {},
   "outputs": [
    {
     "data": {
      "text/plain": [
       "'Squid Game'"
      ]
     },
     "execution_count": 13,
     "metadata": {},
     "output_type": "execute_result"
    }
   ],
   "source": [
    "movie_list = [\"Money Heist\",\"Squid Game\",\"3ediots\"]\n",
    "movie_list[1]"
   ]
  },
  {
   "cell_type": "markdown",
   "id": "3d13209b-d7c1-4486-b876-e4d445a54966",
   "metadata": {},
   "source": [
    "Q7. Create a list of your favorite animals, then add a new animal to the list and print the updated list."
   ]
  },
  {
   "cell_type": "code",
   "execution_count": 15,
   "id": "5a22f079-a869-4997-996f-41111fe88be0",
   "metadata": {},
   "outputs": [
    {
     "data": {
      "text/plain": [
       "['dog', 'cat', 'elephant', 'cow']"
      ]
     },
     "execution_count": 15,
     "metadata": {},
     "output_type": "execute_result"
    }
   ],
   "source": [
    "animals = [\"dog\",\"cat\",\"elephant\"]\n",
    "animals.insert(3,\"cow\")\n",
    "animals"
   ]
  },
  {
   "cell_type": "markdown",
   "id": "e433e592-f231-4730-a44d-b6133475883e",
   "metadata": {},
   "source": [
    "Q8. Create a list of your favorite cities, then use the index() method to find the position of a specific city\n",
    "on the list and print it."
   ]
  },
  {
   "cell_type": "code",
   "execution_count": 16,
   "id": "e084f11d-4a7a-45bb-b005-3f45fa4a72bb",
   "metadata": {},
   "outputs": [
    {
     "data": {
      "text/plain": [
       "'panipat'"
      ]
     },
     "execution_count": 16,
     "metadata": {},
     "output_type": "execute_result"
    }
   ],
   "source": [
    "cities = [\"hisar\",\"Bhiwani\",\"panipat\",\"rohtak\"]\n",
    "cities[2]"
   ]
  }
 ],
 "metadata": {
  "kernelspec": {
   "display_name": "Python 3 (ipykernel)",
   "language": "python",
   "name": "python3"
  },
  "language_info": {
   "codemirror_mode": {
    "name": "ipython",
    "version": 3
   },
   "file_extension": ".py",
   "mimetype": "text/x-python",
   "name": "python",
   "nbconvert_exporter": "python",
   "pygments_lexer": "ipython3",
   "version": "3.10.8"
  }
 },
 "nbformat": 4,
 "nbformat_minor": 5
}
