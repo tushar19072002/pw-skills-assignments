{
 "cells": [
  {
   "cell_type": "markdown",
   "id": "e94c5a6f-69ae-4916-95a7-02a61daf4169",
   "metadata": {},
   "source": [
    "Q1. What is multiprocessing in python? Why is it useful?"
   ]
  },
  {
   "cell_type": "markdown",
   "id": "04eebf1a-b681-4589-8e45-bdfbb11d4714",
   "metadata": {},
   "source": [
    "The multiprocessing package supports spawning processes. It refers to a function that loads and executes a new child processes. For the child to terminate or to continue executing concurrent computing,then the current process hasto wait using an API, which is similar to threading module."
   ]
  },
  {
   "cell_type": "markdown",
   "id": "954ae960-4a2d-4e44-a730-3038bce5af28",
   "metadata": {},
   "source": [
    "Q2. What are the differences between multiprocessing and multithreading?"
   ]
  },
  {
   "cell_type": "markdown",
   "id": "20ff17a6-fc4f-40bf-ad6f-30bb6ba164ad",
   "metadata": {},
   "source": [
    "Multiprocessing uses two or more CPUs to increase computing power, whereas multithreading uses a single process with multiple code segments to increase computing power. Multithreading focuses on generating computing threads from a single process, whereas multiprocessing increases computing power by adding CPUs."
   ]
  },
  {
   "cell_type": "markdown",
   "id": "2295701e-9f07-4b57-af3d-74142c9b78f2",
   "metadata": {},
   "source": [
    "Q3. Write a python code to create a process using the multiprocessing module?"
   ]
  },
  {
   "cell_type": "code",
   "execution_count": 1,
   "id": "e977cf5a-f88f-40d3-bed5-71d7d8c28244",
   "metadata": {},
   "outputs": [
    {
     "name": "stdout",
     "output_type": "stream",
     "text": [
      "this is my forst product\n",
      "This is my first programm in multiprogramming\n"
     ]
    }
   ],
   "source": [
    "import multiprocessing\n",
    "def test():\n",
    "    print(\"This is my first programm in multiprogramming\")\n",
    "if __name__ == \"__main__\":\n",
    "    m = multiprocessing.Process(target=test)\n",
    "    print(\"this is my forst product\")\n",
    "    m.start()\n",
    "    m.join()\n",
    "          \n",
    "    "
   ]
  },
  {
   "cell_type": "markdown",
   "id": "4433adfc-798a-4c24-bb78-0bb79fbb4dc7",
   "metadata": {},
   "source": [
    "Q4. What is a multiprocessing pool in python? Why is it used?"
   ]
  },
  {
   "cell_type": "markdown",
   "id": "0a088405-99e4-4d4c-9aa2-14e9054acb55",
   "metadata": {},
   "source": [
    "Python multiprocessing Pool can be used for parallel execution of a function across multiple input values, distributing the input data across processes (data parallelism). Below is a simple Python multiprocessing Pool example."
   ]
  },
  {
   "cell_type": "markdown",
   "id": "4de977d9-ba6a-423e-80f1-1b7b6371d784",
   "metadata": {},
   "source": [
    "Q5. How can we create a pool of worker processes in python using the multiprocessing module?"
   ]
  },
  {
   "cell_type": "code",
   "execution_count": 2,
   "id": "2c2b4e3a-56b0-4921-9ab7-a74702e62459",
   "metadata": {},
   "outputs": [
    {
     "name": "stdout",
     "output_type": "stream",
     "text": [
      "[27, 64, 125, 216, 343, 512]\n"
     ]
    }
   ],
   "source": [
    "def cube(n):\n",
    "    return n**3\n",
    "if __name__ == '__main__':\n",
    "    with multiprocessing.Pool(processes=5) as pool:\n",
    "        out = pool.map(cube,[3,4,5,6,7,8])\n",
    "        print(out)"
   ]
  },
  {
   "cell_type": "markdown",
   "id": "d6e5cf60-0794-4941-b115-dcc71b400d44",
   "metadata": {},
   "source": [
    "Q6. Write a python program to create 4 processes, each process should print a different number using the multiprocessing module in python?"
   ]
  },
  {
   "cell_type": "code",
   "execution_count": null,
   "id": "5bbb020a-9293-4c50-a0dd-af1d1ca0c88b",
   "metadata": {},
   "outputs": [],
   "source": [
    "import multiprocessing\n",
    "def producer(q):\n",
    "    for i in [\"1\",\"2\",\"3\",\"4\"]:\n",
    "        q.put(i)\n",
    "        \n",
    "def consumer(q):\n",
    "    while True:\n",
    "        item = q.get()\n",
    "        if item is None:\n",
    "            break\n",
    "        print(item)\n",
    "if __name__ == \"__main__\":\n",
    "    queue = multiprocessing.Queue()\n",
    "    m1 = multiprocessing.Process(target=producer,args=(queue,))\n",
    "    m2 = multiprocessing.Process(target=consumer,args=(queue,))\n",
    "    m1.start()\n",
    "    m2.start()\n",
    "    queue.put(\"\")\n",
    "    m1.join()\n",
    "    m2.join()"
   ]
  },
  {
   "cell_type": "code",
   "execution_count": null,
   "id": "01b4684c-508d-4522-8c80-a263ca37b036",
   "metadata": {},
   "outputs": [],
   "source": []
  },
  {
   "cell_type": "code",
   "execution_count": null,
   "id": "737bb0c4-0b06-4b8a-9547-673da2f78ef9",
   "metadata": {},
   "outputs": [],
   "source": []
  },
  {
   "cell_type": "code",
   "execution_count": null,
   "id": "0162ba33-c178-4fcd-b9b2-ff9bed235011",
   "metadata": {},
   "outputs": [],
   "source": []
  },
  {
   "cell_type": "code",
   "execution_count": null,
   "id": "985d16a1-405e-4575-b713-b2f7c2b61804",
   "metadata": {},
   "outputs": [],
   "source": []
  }
 ],
 "metadata": {
  "kernelspec": {
   "display_name": "Python 3 (ipykernel)",
   "language": "python",
   "name": "python3"
  },
  "language_info": {
   "codemirror_mode": {
    "name": "ipython",
    "version": 3
   },
   "file_extension": ".py",
   "mimetype": "text/x-python",
   "name": "python",
   "nbconvert_exporter": "python",
   "pygments_lexer": "ipython3",
   "version": "3.10.8"
  }
 },
 "nbformat": 4,
 "nbformat_minor": 5
}
