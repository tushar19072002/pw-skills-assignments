{
 "cells": [
  {
   "cell_type": "markdown",
   "id": "2c5026c1-e3f5-473b-8718-3f93e9fe88c2",
   "metadata": {},
   "source": [
    "Q1:- How can we store a single quote (‘) as a str1ng 1n a var1able?"
   ]
  },
  {
   "cell_type": "code",
   "execution_count": 3,
   "id": "9a7d091c-07e5-4bcb-bab8-a15895a84245",
   "metadata": {},
   "outputs": [
    {
     "name": "stdout",
     "output_type": "stream",
     "text": [
      "'\n"
     ]
    }
   ],
   "source": [
    "stri = \"'\"\n",
    "print(stri)"
   ]
  },
  {
   "cell_type": "markdown",
   "id": "1f0acbd4-2c1f-4acd-923c-904a532757ab",
   "metadata": {},
   "source": [
    "Ans:- we can store single quote in a string by declaring the string using double quotes."
   ]
  },
  {
   "cell_type": "markdown",
   "id": "d0311263-fc2b-46a8-ae62-6bf6f3f53cc8",
   "metadata": {},
   "source": [
    "Q.2 Refer the below var1able:\n",
    "x = ‘a'\n",
    "Here, 1s x a character type or str1ng type var1able? Support your answer w1th an explanat1on."
   ]
  },
  {
   "cell_type": "markdown",
   "id": "cb7aaa7d-5d64-40a8-90af-d60467a11c83",
   "metadata": {},
   "source": [
    "Ans:- Here x is a str type , because x is a varible which stored string."
   ]
  },
  {
   "cell_type": "markdown",
   "id": "d10985db-b49e-47b3-8769-a767f85efa70",
   "metadata": {},
   "source": [
    "Q-3 Apply the following functions on this variable: ‘Welcome to Python foundation course'\n",
    "1. find()\n",
    "2. count()\n",
    "3. len()\n",
    "4. Concatenation()\n",
    "Note: You can use your cho1ce of parametersQ But make sure 1t 1s correct."
   ]
  },
  {
   "cell_type": "code",
   "execution_count": 14,
   "id": "61caf5a3-26e5-48c8-b6df-ee4e378442c1",
   "metadata": {},
   "outputs": [
    {
     "data": {
      "text/plain": [
       "11"
      ]
     },
     "execution_count": 14,
     "metadata": {},
     "output_type": "execute_result"
    }
   ],
   "source": [
    "string = 'Welcome to Python foundation course'\n",
    "string2 = 'Today we will study about string'\n",
    "string.find('P')"
   ]
  },
  {
   "cell_type": "code",
   "execution_count": 10,
   "id": "ec0c1820-0459-4bf2-84a8-5051792a4b1d",
   "metadata": {},
   "outputs": [
    {
     "data": {
      "text/plain": [
       "3"
      ]
     },
     "execution_count": 10,
     "metadata": {},
     "output_type": "execute_result"
    }
   ],
   "source": [
    "string.count('e')"
   ]
  },
  {
   "cell_type": "code",
   "execution_count": 12,
   "id": "e9d4b260-f3a6-432f-9043-4473514d8a08",
   "metadata": {},
   "outputs": [
    {
     "data": {
      "text/plain": [
       "35"
      ]
     },
     "execution_count": 12,
     "metadata": {},
     "output_type": "execute_result"
    }
   ],
   "source": [
    "len(string)"
   ]
  },
  {
   "cell_type": "code",
   "execution_count": 15,
   "id": "e62c4bda-86de-42de-961b-0aaa03d990e7",
   "metadata": {},
   "outputs": [
    {
     "data": {
      "text/plain": [
       "'Welcome to Python foundation courseToday we will study about string'"
      ]
     },
     "execution_count": 15,
     "metadata": {},
     "output_type": "execute_result"
    }
   ],
   "source": [
    "string + string2 # concatenation."
   ]
  },
  {
   "cell_type": "markdown",
   "id": "98990d0f-89e2-4e58-8878-f32561aa34f7",
   "metadata": {},
   "source": [
    "Q4 :-  For the variable: word = ‘PanaJi@12256\n",
    "Calculate the following:\n",
    "(a) Total number of alphabets in lowercase\n",
    "(b) Total number of alphabets in uppercase\n",
    "(c) Total number of numerical in string"
   ]
  },
  {
   "cell_type": "code",
   "execution_count": 51,
   "id": "ba586a68-7f35-4070-90b9-5e9bb977f6d1",
   "metadata": {},
   "outputs": [
    {
     "name": "stdout",
     "output_type": "stream",
     "text": [
      "4\n"
     ]
    }
   ],
   "source": [
    "word = 'PanaJi@12256'\n",
    "count = 0\n",
    "for i in word:\n",
    "    \n",
    "    if i == i.lower():\n",
    "        if i.isdigit() == False and i.isalpha() == True:\n",
    "            count += 1\n",
    "        \n",
    "    \n",
    "print(count)"
   ]
  },
  {
   "cell_type": "code",
   "execution_count": 50,
   "id": "44a0a43a-747d-4f37-a8f6-052a2b99bb3d",
   "metadata": {},
   "outputs": [
    {
     "name": "stdout",
     "output_type": "stream",
     "text": [
      "2\n"
     ]
    }
   ],
   "source": [
    "word = 'PanaJi@12256'\n",
    "count = 0\n",
    "for i in word:\n",
    "    \n",
    "    if i == i.upper():\n",
    "        if i.isdigit() == False and i.isalpha() == True:\n",
    "            count += 1\n",
    "        \n",
    "    \n",
    "print(count)"
   ]
  },
  {
   "cell_type": "code",
   "execution_count": 52,
   "id": "2b7137c2-5689-48da-8936-cf47533533e0",
   "metadata": {},
   "outputs": [
    {
     "name": "stdout",
     "output_type": "stream",
     "text": [
      "5\n"
     ]
    }
   ],
   "source": [
    "word = 'PanaJi@12256'\n",
    "count = 0\n",
    "for i in word:\n",
    "    if i.isdigit():\n",
    "        count +=1\n",
    "    \n",
    "print(count)"
   ]
  },
  {
   "cell_type": "markdown",
   "id": "409cfb20-b2f1-4ea5-810d-ff9f917002b7",
   "metadata": {},
   "source": [
    "Q5:- Write a code to store a numerical value inside a variable then convert it into string ?"
   ]
  },
  {
   "cell_type": "code",
   "execution_count": null,
   "id": "4c230519-bbe2-4f6f-8ef4-476789cb69a6",
   "metadata": {},
   "outputs": [],
   "source": [
    "var = 123\n",
    "str"
   ]
  },
  {
   "cell_type": "code",
   "execution_count": null,
   "id": "9d5505df-41db-43e8-ab0d-44e7a0f8558a",
   "metadata": {},
   "outputs": [],
   "source": []
  },
  {
   "cell_type": "code",
   "execution_count": null,
   "id": "27334488-ca86-4329-a207-643ee6c61104",
   "metadata": {},
   "outputs": [],
   "source": []
  }
 ],
 "metadata": {
  "kernelspec": {
   "display_name": "Python 3 (ipykernel)",
   "language": "python",
   "name": "python3"
  },
  "language_info": {
   "codemirror_mode": {
    "name": "ipython",
    "version": 3
   },
   "file_extension": ".py",
   "mimetype": "text/x-python",
   "name": "python",
   "nbconvert_exporter": "python",
   "pygments_lexer": "ipython3",
   "version": "3.10.8"
  }
 },
 "nbformat": 4,
 "nbformat_minor": 5
}
