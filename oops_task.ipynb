{
 "cells": [
  {
   "cell_type": "markdown",
   "id": "d39c65b3-8708-438a-9666-08c9455097b8",
   "metadata": {},
   "source": [
    "Q1:- Create a vehicle class with an init method having instance variables as name_of_vehicle, max_speed\n",
    "and average_of_vehicle."
   ]
  },
  {
   "cell_type": "code",
   "execution_count": 5,
   "id": "9ded04ce-9b11-4bdd-8831-1f87dcd573a6",
   "metadata": {},
   "outputs": [
    {
     "data": {
      "text/plain": [
       "140"
      ]
     },
     "execution_count": 5,
     "metadata": {},
     "output_type": "execute_result"
    }
   ],
   "source": [
    "class vehicle:\n",
    "    def __init__(self,Name_of_vehicle,max_speed,average_of_vehicle):\n",
    "        self.name = Name_of_vehicle\n",
    "        self.speed = max_speed\n",
    "        self.average = average_of_vehicle\n",
    "obj_car = vehicle(\"innova\",140,20)\n",
    "obj_car.speed"
   ]
  },
  {
   "cell_type": "markdown",
   "id": "62254cab-5ea0-436a-9d52-1e115969e91c",
   "metadata": {},
   "source": [
    "Q2. Create a child class car from the vehicle class created in Que 1, which will inherit the vehicle class.\n",
    "Create a method named seating_capacity which takes capacity as an argument and returns the name of\n",
    "the vehicle and its seating capacity."
   ]
  },
  {
   "cell_type": "code",
   "execution_count": 16,
   "id": "077197fc-fe27-441f-ac4d-db9f7e7a826c",
   "metadata": {},
   "outputs": [
    {
     "name": "stdout",
     "output_type": "stream",
     "text": [
      "innova 4"
     ]
    }
   ],
   "source": [
    "class vehicle:\n",
    "    def __init__(self,Name_of_vehicle,max_speed,average_of_vehicle):\n",
    "        self.name = Name_of_vehicle\n",
    "        self.speed = max_speed\n",
    "        self.average = average_of_vehicle\n",
    "class car(vehicle):\n",
    "    def seating_capacity(self,no_of_seats):\n",
    "        self.no_of_seats = no_of_seats\n",
    "        print(self.name,self.no_of_seats)\n",
    "obj_car = car(\"innova\",140,20)\n",
    "obj_car.seating_capacity(4)"
   ]
  },
  {
   "cell_type": "markdown",
   "id": "106e128d-dbbf-4efb-a860-9d7569c51a72",
   "metadata": {},
   "source": [
    "Q3. What is multiple inheritance? Write a python code to demonstrate multiple inheritance."
   ]
  },
  {
   "cell_type": "markdown",
   "id": "127fe7c0-0c7b-4a5b-9c2f-e1754e77df96",
   "metadata": {},
   "source": [
    "Ans:- Multiple Inheritance in python is a well-known feature that is supported by all the major object-oriented programming languages. It can be described as a process where the child class or object inherits the methods and attributes from one or more parent classes."
   ]
  },
  {
   "cell_type": "code",
   "execution_count": 18,
   "id": "8f811fa3-0bd0-41db-bf86-90c53d15b8e0",
   "metadata": {},
   "outputs": [
    {
     "name": "stdout",
     "output_type": "stream",
     "text": [
      "this is my test for class1\n"
     ]
    }
   ],
   "source": [
    "class class1:\n",
    "    def test_class1(self):\n",
    "        print(\"this is my test for class1\")\n",
    "class class2:\n",
    "    def test_class2(self):\n",
    "        print(\"this is my test for class2\")\n",
    "class class3(class1,class2):\n",
    "    def test_class3(self):\n",
    "        print(\"this is my test for class3\")\n",
    "obj_clas3 = class3()\n",
    "obj_clas3.test_class1()"
   ]
  },
  {
   "cell_type": "code",
   "execution_count": 21,
   "id": "1d932783-2945-4d21-8bf9-6c7ff22f3048",
   "metadata": {},
   "outputs": [
    {
     "name": "stdout",
     "output_type": "stream",
     "text": [
      "this is my test for class2\n"
     ]
    }
   ],
   "source": [
    "obj_clas3.test_class2()"
   ]
  },
  {
   "cell_type": "markdown",
   "id": "a609b3ab-e54a-4dd4-8b40-ffde41827422",
   "metadata": {},
   "source": [
    "Q4. What are getter and setter in python? Create a class and create a getter and a setter method in this\n",
    "class."
   ]
  },
  {
   "cell_type": "markdown",
   "id": "c77844a0-1f32-4209-aa3d-375b2949fe34",
   "metadata": {},
   "source": [
    "Ans:-Getter: A method that allows you to access an attribute in a given class. \n",
    "    Setter: A method that allows you to set or mutate the value of an attribute in a class."
   ]
  },
  {
   "cell_type": "code",
   "execution_count": 28,
   "id": "72a390c7-842f-4b7c-a715-47e897aa87c7",
   "metadata": {},
   "outputs": [
    {
     "data": {
      "text/plain": [
       "10"
      ]
     },
     "execution_count": 28,
     "metadata": {},
     "output_type": "execute_result"
    }
   ],
   "source": [
    "class pwskills:\n",
    "    def __init__(self,age = 0):\n",
    "        self.age = age\n",
    "    def get_age(self):\n",
    "        return self.age\n",
    "    def set_age(self,new_age):\n",
    "        self.age = new_age\n",
    "john = pwskills()\n",
    "john.get_age()\n",
    "john.set_age(10)\n",
    "john.get_age()"
   ]
  },
  {
   "cell_type": "markdown",
   "id": "c2e18df3-c85d-43c8-9cc5-3abdf7eaaf95",
   "metadata": {},
   "source": [
    "Q5.What is method overriding in python? Write a python code to demonstrate method overriding."
   ]
  },
  {
   "cell_type": "markdown",
   "id": "55239cf6-18e9-463d-bc7e-2d4d5f08fca3",
   "metadata": {},
   "source": [
    "Ans:-Method overriding in Python is when you have two methods with the same name that each perform different tasks. This is an important feature of inheritance in Python. In method overriding, the child class can change its functions that are defined by its ancestral classes."
   ]
  },
  {
   "cell_type": "code",
   "execution_count": null,
   "id": "9246863a-5272-46ab-bd7a-c56b4e5244a0",
   "metadata": {},
   "outputs": [],
   "source": [
    "# Python program to demonstrate\n",
    "# method overriding\n",
    "\n",
    "\n",
    "# Defining parent class\n",
    "class Parent():\n",
    "\t\n",
    "\t# Constructor\n",
    "\tdef __init__(self):\n",
    "\t\tself.value = \"Inside Parent\"\n",
    "\t\t\n",
    "\t# Parent's show method\n",
    "\tdef show(self):\n",
    "\t\tprint(self.value)\n",
    "\t\t\n",
    "# Defining child class\n",
    "class Child(Parent):\n",
    "\t\n",
    "\t# Constructor\n",
    "\tdef __init__(self):\n",
    "\t\tself.value = \"Inside Child\"\n",
    "\t\t\n",
    "\t# Child's show method\n",
    "\tdef show(self):\n",
    "\t\tprint(self.value)\n",
    "\t\t\n",
    "\t\t\n",
    "# Driver's code\n",
    "obj1 = Parent()\n",
    "obj2 = Child()\n",
    "\n",
    "obj1.show()\n",
    "obj2.show()\n"
   ]
  },
  {
   "cell_type": "code",
   "execution_count": null,
   "id": "32aab5c7-d418-49c3-add0-d64c63edcb4d",
   "metadata": {},
   "outputs": [],
   "source": []
  }
 ],
 "metadata": {
  "kernelspec": {
   "display_name": "Python 3 (ipykernel)",
   "language": "python",
   "name": "python3"
  },
  "language_info": {
   "codemirror_mode": {
    "name": "ipython",
    "version": 3
   },
   "file_extension": ".py",
   "mimetype": "text/x-python",
   "name": "python",
   "nbconvert_exporter": "python",
   "pygments_lexer": "ipython3",
   "version": "3.10.8"
  }
 },
 "nbformat": 4,
 "nbformat_minor": 5
}
