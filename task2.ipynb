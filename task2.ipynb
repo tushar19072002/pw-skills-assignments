{
 "cells": [
  {
   "cell_type": "code",
   "execution_count": 12,
   "id": "e66ee9bc-622a-42bb-bc98-861b62179098",
   "metadata": {},
   "outputs": [
    {
     "name": "stdin",
     "output_type": "stream",
     "text": [
      "enter passward of 10 words TUshr@#123\n"
     ]
    },
    {
     "name": "stdout",
     "output_type": "stream",
     "text": [
      "Valid Password\n"
     ]
    }
   ],
   "source": [
    "passward = input(\"enter passward of 10 words\")\n",
    "def check_pass(passward):\n",
    "    l, u, p, d = 0, 0, 0, 0\n",
    "    \n",
    "    if (len(passward) <= 10):\n",
    "        for i in passward:\n",
    "\n",
    "            # counting lowercase alphabets\n",
    "            if (i.islower()):\n",
    "                l+=1           \n",
    "\n",
    "            # counting uppercase alphabets\n",
    "            if (i.isupper()):\n",
    "                u+=1           \n",
    "\n",
    "            # counting digits\n",
    "            if (i.isdigit()):\n",
    "                d+=1           \n",
    "\n",
    "            # counting the mentioned special characters\n",
    "            if(i=='@'or i=='#' or i=='_'or i ==\"$\" or i == \"&\" or i == \"*\"):\n",
    "                p+=1          \n",
    "    if (l>=2 and u>=2 and p>=2 and d>=1 and l+p+u+d==len(passward)):\n",
    "        print(\"Valid Password\")\n",
    "    else:\n",
    "        print(\"Invalid Password\")\n",
    "check_pass(passward)"
   ]
  },
  {
   "cell_type": "markdown",
   "id": "b5c15d8e-7563-4ed2-8c78-331722d99cda",
   "metadata": {},
   "source": [
    "Q.2(a) Check if the string starts with a particular letter?"
   ]
  },
  {
   "cell_type": "code",
   "execution_count": 18,
   "id": "6ac62450-fe5f-4bb3-9312-b4172e05c35f",
   "metadata": {},
   "outputs": [
    {
     "name": "stdin",
     "output_type": "stream",
     "text": [
      "enter the string tushar\n"
     ]
    },
    {
     "name": "stdout",
     "output_type": "stream",
     "text": [
      "Yes tushar starts with t\n"
     ]
    }
   ],
   "source": [
    "x = input(\"enter the string\")\n",
    "res = lambda x : True if x.startswith(\"t\") else False\n",
    "if res(x) == True:\n",
    "    print(f\"Yes {x} starts with t\")\n",
    "else:\n",
    "          print(f\"No {x} did not starts with t\") "
   ]
  },
  {
   "cell_type": "markdown",
   "id": "566cd1e9-063c-44da-9940-0991bde47f99",
   "metadata": {},
   "source": [
    "Q.2(b) Check if the string is numeric?"
   ]
  },
  {
   "cell_type": "code",
   "execution_count": 19,
   "id": "092cb4af-4981-4263-a613-3daed87f6718",
   "metadata": {},
   "outputs": [
    {
     "name": "stdin",
     "output_type": "stream",
     "text": [
      "enter the string 123\n"
     ]
    },
    {
     "name": "stdout",
     "output_type": "stream",
     "text": [
      "Yes 123 consists all numbers\n"
     ]
    }
   ],
   "source": [
    "x = input(\"enter the string\")\n",
    "res = lambda x : True if x.isalnum() else False\n",
    "if res(x) == True:\n",
    "    print(f\"Yes {x} consists all numbers\")\n",
    "else:\n",
    "          print(f\"No {x} did not have all numbers\")"
   ]
  },
  {
   "cell_type": "markdown",
   "id": "4f3e2247-2203-4d93-ac93-5abc299b9d2a",
   "metadata": {},
   "source": [
    "Q.2(c)Sort a list of tuples having fruit names and their quantity. [(\"mango\",99),(\"orange\",80), (\"grapes\", 1000)."
   ]
  },
  {
   "cell_type": "code",
   "execution_count": 47,
   "id": "89fbcef6-870a-43fd-b3cf-005b8cd0afe4",
   "metadata": {},
   "outputs": [
    {
     "data": {
      "text/plain": [
       "[80, 99, 1000]"
      ]
     },
     "execution_count": 47,
     "metadata": {},
     "output_type": "execute_result"
    }
   ],
   "source": [
    "x = [(\"mango\",99),(\"orange\",80), (\"grapes\", 1000)]\n",
    "l = []\n",
    "for i in x:\n",
    "    for j in i:\n",
    "        if type(j) == int:\n",
    "            l.append(j)\n",
    "l.sort()\n",
    "l"
   ]
  },
  {
   "cell_type": "markdown",
   "id": "2f336d63-7bcb-4ae0-aec3-f1e9b12f8e10",
   "metadata": {},
   "source": [
    "Q.2(d)Find the squares of numbers from 1 to 10"
   ]
  },
  {
   "cell_type": "code",
   "execution_count": 50,
   "id": "dd5d98bd-b9fb-425a-8edc-356ae6cd1cd3",
   "metadata": {},
   "outputs": [
    {
     "data": {
      "text/plain": [
       "[1, 4, 9, 16, 25, 36, 49, 64, 81, 100]"
      ]
     },
     "execution_count": 50,
     "metadata": {},
     "output_type": "execute_result"
    }
   ],
   "source": [
    "l = [1,2,3,4,5,6,7,8,9,10]\n",
    "list(map(lambda x:x**2,l))"
   ]
  },
  {
   "cell_type": "markdown",
   "id": "aa4b44de-213c-497c-9695-22783d5425c7",
   "metadata": {},
   "source": [
    "Q.2(e)Find the cube of numbers from 1 to 10."
   ]
  },
  {
   "cell_type": "code",
   "execution_count": 52,
   "id": "796f2592-84fe-4592-a702-ae12126a07b5",
   "metadata": {},
   "outputs": [
    {
     "data": {
      "text/plain": [
       "[1, 8, 27, 64, 125, 216, 343, 512, 729, 1000]"
      ]
     },
     "execution_count": 52,
     "metadata": {},
     "output_type": "execute_result"
    }
   ],
   "source": [
    "l = [1,2,3,4,5,6,7,8,9,10]\n",
    "list(map(lambda x:x**3,l))"
   ]
  },
  {
   "cell_type": "markdown",
   "id": "a3901c21-201d-4084-adc4-24fb373f4012",
   "metadata": {},
   "source": [
    "Q.2(f) Check if a given number is even"
   ]
  },
  {
   "cell_type": "code",
   "execution_count": 55,
   "id": "018f69dd-36b3-40c5-b66c-f573642b7f93",
   "metadata": {},
   "outputs": [
    {
     "name": "stdin",
     "output_type": "stream",
     "text": [
      "enter the number 10\n"
     ]
    },
    {
     "name": "stdout",
     "output_type": "stream",
     "text": [
      "Yes entered number 10 is even number\n"
     ]
    }
   ],
   "source": [
    "number = int(input(\"enter the number\"))\n",
    "res =  lambda number : True if number % 2 ==0 else False\n",
    "if res(number) == True:\n",
    "    print(f\"Yes entered number {number} is even number\")\n",
    "    "
   ]
  },
  {
   "cell_type": "markdown",
   "id": "1c393630-1416-4adc-a9c3-b52c6bd22905",
   "metadata": {},
   "source": [
    "Q.2(g)Filter odd numbers from the given list.\n",
    "[1,2,3,4,5,6,7,8,9,10]"
   ]
  },
  {
   "cell_type": "code",
   "execution_count": 57,
   "id": "cf1c8ba7-6358-45aa-9c3d-9cffe296ba26",
   "metadata": {},
   "outputs": [
    {
     "data": {
      "text/plain": [
       "[1, 3, 5, 7, 9]"
      ]
     },
     "execution_count": 57,
     "metadata": {},
     "output_type": "execute_result"
    }
   ],
   "source": [
    "l = [1,2,3,4,5,6,7,8,9,10]\n",
    "list(filter(lambda x: x%2 !=0,l))"
   ]
  },
  {
   "cell_type": "markdown",
   "id": "4990bf0f-c1b2-4573-8591-b9217eaddb86",
   "metadata": {},
   "source": [
    "Q.2(h) Sort a list of integers into positive and negative integers lists.\n",
    "[1,2,3,4,5,6,-1,-2,-3,-4,-5,0]"
   ]
  },
  {
   "cell_type": "code",
   "execution_count": 60,
   "id": "45c3c515-fb8a-48c5-abe8-0e36191619c0",
   "metadata": {},
   "outputs": [
    {
     "data": {
      "text/plain": [
       "([1, 2, 3, 4, 5, 6], [-1, -2, -3, -4, -5])"
      ]
     },
     "execution_count": 60,
     "metadata": {},
     "output_type": "execute_result"
    }
   ],
   "source": [
    "l = [1,2,3,4,5,6,-1,-2,-3,-4,-5,0]\n",
    "x = list(filter(lambda x: x>0 ,l))\n",
    "y = list(filter(lambda x: x<0,l))\n",
    "x,y"
   ]
  }
 ],
 "metadata": {
  "kernelspec": {
   "display_name": "Python 3 (ipykernel)",
   "language": "python",
   "name": "python3"
  },
  "language_info": {
   "codemirror_mode": {
    "name": "ipython",
    "version": 3
   },
   "file_extension": ".py",
   "mimetype": "text/x-python",
   "name": "python",
   "nbconvert_exporter": "python",
   "pygments_lexer": "ipython3",
   "version": "3.10.8"
  }
 },
 "nbformat": 4,
 "nbformat_minor": 5
}
