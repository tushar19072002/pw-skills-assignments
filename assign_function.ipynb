{
 "cells": [
  {
   "cell_type": "markdown",
   "id": "c6854ac5-a0f8-4e71-9384-bdc87e5838b9",
   "metadata": {},
   "source": [
    "Q1. Which keyword is used to create a function? Create a function to return a list of odd numbers in the range of 1 to 25.\n",
    "Ans:- Def keyword is used to creatte a function in python.\n",
    "syntax :- def name_of_function(arguments to be passed):\n",
    "            condition\n",
    "            "
   ]
  },
  {
   "cell_type": "code",
   "execution_count": 7,
   "id": "07029be5-a22f-49ff-a98c-357bb620f841",
   "metadata": {},
   "outputs": [
    {
     "name": "stdout",
     "output_type": "stream",
     "text": [
      "1 3 5 7 9 11 13 15 17 19 21 23 "
     ]
    }
   ],
   "source": [
    "x = range(0,25)\n",
    "def odd(x):\n",
    "    for i in x:\n",
    "        if i % 2 != 0:\n",
    "            print(i,end=\" \")\n",
    "odd(x)       "
   ]
  },
  {
   "cell_type": "markdown",
   "id": "b99e32a9-6de9-4ea3-ae30-19a395184564",
   "metadata": {},
   "source": [
    "Ques-2:- Q2. Why *args and **kwargs is used in some functions? Create a function each for *args and **kwargs to demonstrate their use.\n",
    "Ans:- *args is used to pass n number of arguments in a funtion and if we want to pass argumnets in the form of key and value pair we have to use **kwargs"
   ]
  },
  {
   "cell_type": "code",
   "execution_count": 8,
   "id": "b189d7bd-7742-4e73-aeee-06902854fbd8",
   "metadata": {},
   "outputs": [
    {
     "data": {
      "text/plain": [
       "(5, 6, 7, 'Tushar', [1, 2, 3])"
      ]
     },
     "execution_count": 8,
     "metadata": {},
     "output_type": "execute_result"
    }
   ],
   "source": [
    "def test(*args):\n",
    "    return args\n",
    "test(5,6,7,\"Tushar\",[1,2,3])"
   ]
  },
  {
   "cell_type": "code",
   "execution_count": 9,
   "id": "943c7b52-01e3-4c98-be17-a3b8154d9406",
   "metadata": {},
   "outputs": [
    {
     "data": {
      "text/plain": [
       "{'a': 10, 'b': 'tushar', 'c': [1, 2, 3]}"
      ]
     },
     "execution_count": 9,
     "metadata": {},
     "output_type": "execute_result"
    }
   ],
   "source": [
    "def test1(**args):\n",
    "    return args\n",
    "test1(a=10,b=\"tushar\",c=[1,2,3])"
   ]
  },
  {
   "cell_type": "markdown",
   "id": "6968edde-128c-44d0-8563-23f742102a48",
   "metadata": {},
   "source": [
    "Ques 3:- What is an iterator in python? Name the method used to initialise the iterator object and the method used for iteration. Use these methods to print the first five elements of the given list [2, 4, 6, 8, 10, 12, 14, 16,18, 20]."
   ]
  },
  {
   "cell_type": "markdown",
   "id": "fe990414-4861-431d-998e-6b37dae5cc76",
   "metadata": {},
   "source": [
    "Ans:-In Python, an iterator is an object that allows you to iterate over collections of data, such as lists, tuples, dictionaries, and sets.\n",
    "Iter() method and next() metod is used to initialize the iterator object so that the instance of this object can be used for iterating.\n"
   ]
  },
  {
   "cell_type": "code",
   "execution_count": 15,
   "id": "9c96dadb-7f02-4512-8ea7-f4d65b2f6413",
   "metadata": {},
   "outputs": [
    {
     "name": "stdout",
     "output_type": "stream",
     "text": [
      "2\n",
      "4\n",
      "6\n",
      "8\n",
      "10\n"
     ]
    }
   ],
   "source": [
    "list0 = [2, 4, 6, 8, 10, 12, 14, 16,18, 20]\n",
    "list1 = iter(list0)\n",
    "print(next(list1))\n",
    "print(next(list1))\n",
    "print(next(list1))\n",
    "print(next(list1))\n",
    "print(next(list1))\n",
    "    \n",
    "    "
   ]
  },
  {
   "cell_type": "markdown",
   "id": "7b670782-e581-40e7-adc3-54a5fd671dde",
   "metadata": {},
   "source": [
    "Ques 4:-What is a generator function in python? Why yield keyword is used? Give an example of a generator function.\n",
    "Ans:- In Python, a generator is a function that returns an iterator that produces a sequence of values when iterated over.\n",
    "The advantages of using yield keywords instead of return are that the values returned by yield statement are stored as local variables states, which allows control over memory overhead allocation. Also, each time, the execution does not start from the beginning, since the previous state is retained."
   ]
  },
  {
   "cell_type": "code",
   "execution_count": 17,
   "id": "4a6c6ce0-5d0d-49f5-90f7-77e1310937d3",
   "metadata": {},
   "outputs": [
    {
     "data": {
      "text/plain": [
       "<generator object fibo at 0x7fdd82450430>"
      ]
     },
     "execution_count": 17,
     "metadata": {},
     "output_type": "execute_result"
    }
   ],
   "source": [
    "\"\"\"i will give an example of generator function by making function of fibonaci series\"\"\"\n",
    "def fibo(n):\n",
    "    a,b = 0,1\n",
    "    for i in range(n):\n",
    "        yield a\n",
    "        a,b = b,a+b\n",
    "fibo(10)"
   ]
  },
  {
   "cell_type": "code",
   "execution_count": 21,
   "id": "2f241ddc-8df3-4fe0-802a-c18647c1e5db",
   "metadata": {},
   "outputs": [
    {
     "name": "stdout",
     "output_type": "stream",
     "text": [
      "0 1 1 2 3 5 8 13 21 34 "
     ]
    }
   ],
   "source": [
    "for i in fibo(10):\n",
    "    print(i,end=\" \")\n"
   ]
  },
  {
   "cell_type": "markdown",
   "id": "ba3847fc-3dba-4b90-8872-1168f4fb0a30",
   "metadata": {},
   "source": [
    "Ques 5:- Create a generator function for prime numbers less than 1000. Use the next() method to print the first 20 prime numbers."
   ]
  },
  {
   "cell_type": "code",
   "execution_count": null,
   "id": "fa3fce40-9aa0-47ab-95be-833c9ee1970d",
   "metadata": {},
   "outputs": [],
   "source": [
    "def generate_primes():\n",
    "    \n",
    "    prime = [True for _ in range(1000)]\n",
    "    p = 2\n",
    "    while p * p <= 1000:\n",
    "        \n",
    "        if prime[p]:\n",
    "            \n",
    "            for i in range(p * p, 1000, p):\n",
    "                prime[i] = False\n",
    "        p += 1\n",
    "\n",
    "    \n",
    "    for num in range(2, 1000):\n",
    "        if prime[num]:\n",
    "            yield num\n",
    "\n",
    "\n",
    "prime_generator = generate_primes()\n",
    "\n",
    "\n",
    "for i in range(20):\n",
    "    print(next(prime_generator))\n"
   ]
  },
  {
   "cell_type": "code",
   "execution_count": null,
   "id": "0646fb4b-e155-407d-85ac-1ffb806d5657",
   "metadata": {},
   "outputs": [],
   "source": []
  },
  {
   "cell_type": "code",
   "execution_count": null,
   "id": "1b67a0f5-ba5a-48eb-b3dd-055c3a697c07",
   "metadata": {},
   "outputs": [],
   "source": []
  },
  {
   "cell_type": "code",
   "execution_count": null,
   "id": "36bbfd1e-6dee-4e76-8ae1-a7966c27c66e",
   "metadata": {},
   "outputs": [],
   "source": []
  }
 ],
 "metadata": {
  "kernelspec": {
   "display_name": "Python 3 (ipykernel)",
   "language": "python",
   "name": "python3"
  },
  "language_info": {
   "codemirror_mode": {
    "name": "ipython",
    "version": 3
   },
   "file_extension": ".py",
   "mimetype": "text/x-python",
   "name": "python",
   "nbconvert_exporter": "python",
   "pygments_lexer": "ipython3",
   "version": "3.10.8"
  }
 },
 "nbformat": 4,
 "nbformat_minor": 5
}
